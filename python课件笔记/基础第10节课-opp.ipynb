{
 "cells": [
  {
   "cell_type": "markdown",
   "metadata": {},
   "source": [
    "#  内容在pycharm里的note"
   ]
  },
  {
   "cell_type": "code",
   "execution_count": 7,
   "metadata": {},
   "outputs": [
    {
     "ename": "SyntaxError",
     "evalue": "invalid syntax (<ipython-input-7-d100f813a508>, line 10)",
     "output_type": "error",
     "traceback": [
      "\u001b[1;36m  File \u001b[1;32m\"<ipython-input-7-d100f813a508>\"\u001b[1;36m, line \u001b[1;32m10\u001b[0m\n\u001b[1;33m    yueyue = Student():\u001b[0m\n\u001b[1;37m         ^\u001b[0m\n\u001b[1;31mSyntaxError\u001b[0m\u001b[1;31m:\u001b[0m invalid syntax\n"
     ]
    }
   ],
   "source": [
    "class Student():\n",
    "    name = \"dana\"\n",
    "    age = 18\n",
    "    # 注意say的写法，参数由一个self\n",
    "    def say(self):\n",
    "        self.name = \"aaaa\"\n",
    "        self.age = 200\n",
    "        print(\"my name is {0}\".format(self.name))\n",
    "        print(\"my age is {0}\".format(self.age)\n",
    "yueyue = Student()\n",
    "yueyue.say()"
   ]
  },
  {
   "cell_type": "code",
   "execution_count": 12,
   "metadata": {},
   "outputs": [
    {
     "name": "stdout",
     "output_type": "stream",
     "text": [
      "dana\n",
      "18\n"
     ]
    }
   ],
   "source": [
    "class Student():\n",
    "    name = \"dana\"\n",
    "    age = 18\n",
    "    # 注意say的写法，参数由一个self\n",
    "    def say(self):\n",
    "        self.name = \"aaaa\"\n",
    "        self.age = 200\n",
    "        \n",
    "\n",
    "yueyue = Student()\n",
    "# a是对象实例\n",
    "print(yueyue.name)\n",
    "print(yueyue.age)\n"
   ]
  },
  {
   "cell_type": "code",
   "execution_count": 15,
   "metadata": {},
   "outputs": [],
   "source": [
    "class Student():\n",
    "    name = \"dana\"\n",
    "    age = 18\n",
    "    # 注意say的写法，参数由一个self\n",
    "    def say(self):\n",
    "        self.name = \"aaaa\"\n",
    "        self.age = 200\n",
    "yueyue = Student()\n",
    "yueyue.say()"
   ]
  }
 ],
 "metadata": {
  "kernelspec": {
   "display_name": "Python 3",
   "language": "python",
   "name": "python3"
  },
  "language_info": {
   "codemirror_mode": {
    "name": "ipython",
    "version": 3
   },
   "file_extension": ".py",
   "mimetype": "text/x-python",
   "name": "python",
   "nbconvert_exporter": "python",
   "pygments_lexer": "ipython3",
   "version": "3.6.4"
  }
 },
 "nbformat": 4,
 "nbformat_minor": 2
}
