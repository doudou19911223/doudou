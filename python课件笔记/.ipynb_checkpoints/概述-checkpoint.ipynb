{
 "cells": [
  {
   "cell_type": "markdown",
   "metadata": {},
   "source": [
    "# python基础\n",
    "## python概述\n",
    " - 计算机语言概述\n",
    "   .语言，交流的工具、沟通的媒介\n",
    "   .计算机语言：人和计算机交流的工具，翻译官\n",
    "   .python是计算机语言的一种\n",
    "   .python翻译语言\n",
    "   .代码：人类语言，通过代码命令机器，跟机器沟通\n",
    "   .python解释器：担任翻译工作的同学\n",
    "  . 流程：\n",
    "   .写代码\n",
    "  . 执行：翻译官把code翻译给机器，同事把机器语言翻译给我们\n",
    " python读音问题\n",
    "   简史\n",
    "   1989年，rossum\n",
    "   2008年：python3.0诞生\n",
    "   "
   ]
  },
  {
   "cell_type": "code",
   "execution_count": 1,
   "metadata": {},
   "outputs": [
    {
     "name": "stdout",
     "output_type": "stream",
     "text": [
      "23333\n"
     ]
    }
   ],
   "source": [
    "print(23333)"
   ]
  },
  {
   "cell_type": "code",
   "execution_count": 2,
   "metadata": {},
   "outputs": [
    {
     "ename": "SyntaxError",
     "evalue": "invalid syntax (<ipython-input-2-de80a7ebfc26>, line 2)",
     "output_type": "error",
     "traceback": [
      "\u001b[1;36m  File \u001b[1;32m\"<ipython-input-2-de80a7ebfc26>\"\u001b[1;36m, line \u001b[1;32m2\u001b[0m\n\u001b[1;33m    print(\"tuling \"33)\u001b[0m\n\u001b[1;37m                    ^\u001b[0m\n\u001b[1;31mSyntaxError\u001b[0m\u001b[1;31m:\u001b[0m invalid syntax\n"
     ]
    }
   ],
   "source": [
    "print(\"hello word\")\n",
    "print(\"tuling \"33)\n",
    "print(\"2333\")\n",
    "print(\"i love you\")"
   ]
  },
  {
   "cell_type": "markdown",
   "metadata": {},
   "source": [
    "print(hello worl)"
   ]
  },
  {
   "cell_type": "code",
   "execution_count": null,
   "metadata": {},
   "outputs": [],
   "source": []
  },
  {
   "cell_type": "code",
   "execution_count": 4,
   "metadata": {},
   "outputs": [
    {
     "name": "stdout",
     "output_type": "stream",
     "text": [
      "hello world\n"
     ]
    }
   ],
   "source": [
    "print(\"hello world\")"
   ]
  },
  {
   "cell_type": "markdown",
   "metadata": {},
   "source": [
    "\n",
    "anaconda+pycharm"
   ]
  }
 ],
 "metadata": {
  "kernelspec": {
   "display_name": "Python 3",
   "language": "python",
   "name": "python3"
  },
  "language_info": {
   "codemirror_mode": {
    "name": "ipython",
    "version": 3
   },
   "file_extension": ".py",
   "mimetype": "text/x-python",
   "name": "python",
   "nbconvert_exporter": "python",
   "pygments_lexer": "ipython3",
   "version": "3.6.4"
  }
 },
 "nbformat": 4,
 "nbformat_minor": 2
}
