{
 "cells": [
  {
   "cell_type": "markdown",
   "metadata": {},
   "source": [
    "# 环境安装\n",
    " - 推荐virtual box+ubuntu\n",
    " .套件推荐  anaconda+pycharm\n",
    " .内存大于4个G，推荐虚拟机下启动系统\n",
    " .小于4G的话，推荐windows下的anaconda+pycharm\n",
    " \n",
    " 代码的作用\n",
    " 给人看、给机器看\n",
    " 注释是给人看的\n",
    " #后面都是注释，注释用自然语言书写\n",
    " \n",
    "\n",
    "-  行注释：以#开头，\n",
    "- 块注释：好几行代码，以三个连续单引号或双引号开始和结束，中间内容都忽略\n",
    " "
   ]
  },
  {
   "cell_type": "code",
   "execution_count": 1,
   "metadata": {},
   "outputs": [
    {
     "ename": "SyntaxError",
     "evalue": "invalid character in identifier (<ipython-input-1-d626962870b0>, line 2)",
     "output_type": "error",
     "traceback": [
      "\u001b[1;36m  File \u001b[1;32m\"<ipython-input-1-d626962870b0>\"\u001b[1;36m, line \u001b[1;32m2\u001b[0m\n\u001b[1;33m    print（\"helloworld\"）\u001b[0m\n\u001b[1;37m         ^\u001b[0m\n\u001b[1;31mSyntaxError\u001b[0m\u001b[1;31m:\u001b[0m invalid character in identifier\n"
     ]
    }
   ],
   "source": [
    "#哈哈哈\n",
    "print（\"helloworld\"）"
   ]
  },
  {
   "cell_type": "code",
   "execution_count": 2,
   "metadata": {},
   "outputs": [
    {
     "ename": "SyntaxError",
     "evalue": "invalid character in identifier (<ipython-input-2-18d296e0b11b>, line 2)",
     "output_type": "error",
     "traceback": [
      "\u001b[1;36m  File \u001b[1;32m\"<ipython-input-2-18d296e0b11b>\"\u001b[1;36m, line \u001b[1;32m2\u001b[0m\n\u001b[1;33m    print（\"hello world\"）\u001b[0m\n\u001b[1;37m         ^\u001b[0m\n\u001b[1;31mSyntaxError\u001b[0m\u001b[1;31m:\u001b[0m invalid character in identifier\n"
     ]
    }
   ],
   "source": [
    "#哈哈哈\n",
    "print（\"hello world\"）"
   ]
  },
  {
   "cell_type": "code",
   "execution_count": 3,
   "metadata": {},
   "outputs": [
    {
     "name": "stdout",
     "output_type": "stream",
     "text": [
      "helloworld\n"
     ]
    }
   ],
   "source": [
    "#哈哈哈\n",
    "print(\"helloworld\")"
   ]
  },
  {
   "cell_type": "code",
   "execution_count": 4,
   "metadata": {},
   "outputs": [
    {
     "name": "stdout",
     "output_type": "stream",
     "text": [
      "hello\n"
     ]
    },
    {
     "ename": "NameError",
     "evalue": "name 'jjj' is not defined",
     "output_type": "error",
     "traceback": [
      "\u001b[1;31m---------------------------------------------------------------------------\u001b[0m",
      "\u001b[1;31mNameError\u001b[0m                                 Traceback (most recent call last)",
      "\u001b[1;32m<ipython-input-4-578390a437f9>\u001b[0m in \u001b[0;36m<module>\u001b[1;34m()\u001b[0m\n\u001b[0;32m      8\u001b[0m \u001b[1;33m\u001b[0m\u001b[0m\n\u001b[0;32m      9\u001b[0m \u001b[1;33m\u001b[0m\u001b[0m\n\u001b[1;32m---> 10\u001b[1;33m \u001b[0mjjj\u001b[0m\u001b[1;33m\u001b[0m\u001b[0m\n\u001b[0m\u001b[0;32m     11\u001b[0m \u001b[1;33m\u001b[0m\u001b[0m\n\u001b[0;32m     12\u001b[0m \u001b[1;33m\u001b[0m\u001b[0m\n",
      "\u001b[1;31mNameError\u001b[0m: name 'jjj' is not defined"
     ]
    }
   ],
   "source": [
    "#jjj\n",
    "# \n",
    "print(\"hello\")#jjjj\n",
    "''''''\n",
    "\n",
    "\n",
    "\n",
    "\n",
    "\n",
    "jjj\n",
    "\n",
    "\n",
    "\n",
    "c\n",
    "\n",
    "c\n",
    "c\n",
    "''''''\n",
    "\n",
    "\n",
    "\n",
    "\n",
    "\n",
    "\n",
    "print(2333)"
   ]
  },
  {
   "cell_type": "code",
   "execution_count": 5,
   "metadata": {},
   "outputs": [
    {
     "name": "stdout",
     "output_type": "stream",
     "text": [
      "233\n"
     ]
    },
    {
     "data": {
      "text/plain": [
       "'\\njkkknwoye keyi xie hen\\nhzhende keyi xie henfao \\n'"
      ]
     },
     "execution_count": 5,
     "metadata": {},
     "output_type": "execute_result"
    }
   ],
   "source": [
    "print(233)#Hjkkkllhhh \n",
    "'''jkkknwoye keyi xie hen\n",
    "hzhende keyi xie henfao \n",
    "'''\n"
   ]
  },
  {
   "cell_type": "code",
   "execution_count": 6,
   "metadata": {},
   "outputs": [
    {
     "name": "stdout",
     "output_type": "stream",
     "text": [
      "233\n"
     ]
    },
    {
     "data": {
      "text/plain": [
       "'jkkknwoye keyi xie hen\\nhzhende keyi xie henfao \\n'"
      ]
     },
     "execution_count": 6,
     "metadata": {},
     "output_type": "execute_result"
    }
   ],
   "source": [
    "print(233)#Hjkkkllhhh \n",
    "'''jkkknwoye keyi xie hen\n",
    "hzhende keyi xie henfao \n",
    "'''"
   ]
  },
  {
   "cell_type": "code",
   "execution_count": 7,
   "metadata": {},
   "outputs": [
    {
     "data": {
      "text/plain": [
       "'\\n'"
      ]
     },
     "execution_count": 7,
     "metadata": {},
     "output_type": "execute_result"
    }
   ],
   "source": [
    "'''\n",
    "'''"
   ]
  },
  {
   "cell_type": "markdown",
   "metadata": {},
   "source": [
    "# 变量\n",
    "- 程序=数据结构+算法\n",
    "- 变量就是可以重复使用的一个量，或者叫一个代号\n",
    "# 变量命名的规则\n",
    "    .变量明明可以包含数字、大小写字母、下划线或者更多，但是我们不推荐三种内容以外的符号。\n",
    "    -# 数字不可以打头，\n",
    "       .man4，for5可以，4man不可以\n",
    "    .一般在python中，以下划线开头的内容具有特殊含义，不建议使用\n",
    "    比如_age,理论可以，但强烈不推荐\n",
    "    .大小写不一样，俗称大小写敏感\n",
    "    推荐\n",
    "    .使用具有固定含义的英文单词或者缩写srv=server，skt=socket，一般以posix命名为规则为主\n",
    "       驼峰命名法\n",
    "    - 大驼峰：每个单词第一个字母大写  MyFirstLove\n",
    "    - 小驼峰：类似大驼峰，但第一个字母小写  myFirstLove  \n",
    "    - posix写法\n",
    "       多个单词用下划线、单词全部小写，my_first_love\n",
    "       \n",
    "    "
   ]
  },
  {
   "cell_type": "code",
   "execution_count": 11,
   "metadata": {},
   "outputs": [
    {
     "name": "stdout",
     "output_type": "stream",
     "text": [
      "1222\n"
     ]
    }
   ],
   "source": [
    "print(1222)"
   ]
  },
  {
   "cell_type": "code",
   "execution_count": null,
   "metadata": {},
   "outputs": [],
   "source": []
  },
  {
   "cell_type": "code",
   "execution_count": 1,
   "metadata": {},
   "outputs": [
    {
     "name": "stdout",
     "output_type": "stream",
     "text": [
      "156.34\n",
      "0.6\n"
     ]
    }
   ],
   "source": [
    "height=156.34\n",
    "print(height)\n",
    "\n",
    "shili=.6\n",
    "print(shili)\n",
    "\n",
    "\n"
   ]
  },
  {
   "cell_type": "code",
   "execution_count": 6,
   "metadata": {},
   "outputs": [
    {
     "name": "stdout",
     "output_type": "stream",
     "text": [
      "156.34\n",
      "0.6\n"
     ]
    }
   ],
   "source": [
    "height=156.34\n",
    "print(height)\n",
    "\n",
    "shili=.6\n",
    "print(shili)"
   ]
  },
  {
   "cell_type": "code",
   "execution_count": null,
   "metadata": {},
   "outputs": [],
   "source": []
  },
  {
   "cell_type": "markdown",
   "metadata": {},
   "source": [
    "小数\n",
    "小数点可以有条件省略\n",
    "3.\n",
    "0.5   .5\n",
    "科学计数法\n",
    "  .定义与数学定义\n",
    "  写法是用e与E后面跟着整数表示10的倍数\n",
    "  176.23=1.7623e2\n",
    "  0.076=7.6e-2=0.76e-1\n",
    "#复数\n",
    ".定义与数学定义一致\n",
    ".一个由实部和虚部构成的数字\n",
    "5+3j\n",
    "3j\n",
    "(3j)\n",
    "#布尔值\n",
    ".表示真假的值\n",
    "只有两个值,Ture/False,=1和0\n",
    "布尔值可以跟数字直接操作\n",
    "##字符串\n",
    ".用来表示一串文字信息\n",
    ".如何表示\n",
    "   .单引号\n",
    "   .双引号\n",
    "   .三引号（三个单引号或三个双引号）\n",
    "html='a style=<\"color:red\">哈哈哈</a>'\n",
    "print(html)"
   ]
  },
  {
   "cell_type": "code",
   "execution_count": 7,
   "metadata": {},
   "outputs": [
    {
     "ename": "SyntaxError",
     "evalue": "invalid character in identifier (<ipython-input-7-f05ce14c7b61>, line 3)",
     "output_type": "error",
     "traceback": [
      "\u001b[1;36m  File \u001b[1;32m\"<ipython-input-7-f05ce14c7b61>\"\u001b[1;36m, line \u001b[1;32m3\u001b[0m\n\u001b[1;33m    print（age）\u001b[0m\n\u001b[1;37m             ^\u001b[0m\n\u001b[1;31mSyntaxError\u001b[0m\u001b[1;31m:\u001b[0m invalid character in identifier\n"
     ]
    }
   ],
   "source": [
    "#布尔值操作\n",
    "age=18+Ture\n",
    "print（age）"
   ]
  },
  {
   "cell_type": "code",
   "execution_count": 8,
   "metadata": {},
   "outputs": [
    {
     "name": "stdout",
     "output_type": "stream",
     "text": [
      "19\n"
     ]
    }
   ],
   "source": [
    "age=18+True\n",
    "print(age)"
   ]
  },
  {
   "cell_type": "code",
   "execution_count": 9,
   "metadata": {},
   "outputs": [
    {
     "name": "stdout",
     "output_type": "stream",
     "text": [
      "i love wangxaiojing\n"
     ]
    }
   ],
   "source": [
    "love=\"i love wangxaiojing\"\n",
    "print(love)"
   ]
  },
  {
   "cell_type": "code",
   "execution_count": 11,
   "metadata": {},
   "outputs": [
    {
     "name": "stdout",
     "output_type": "stream",
     "text": [
      "我爱王晓静\n",
      "a style=<\"color:red\">哈哈哈</a>\n"
     ]
    }
   ],
   "source": [
    "love=\"我爱王晓静\"\n",
    "print(love)\n",
    "#单双引号交错使用的例子\n",
    "html='a style=<\"color:red\">哈哈哈</a>'\n",
    "print(html)"
   ]
  },
  {
   "cell_type": "code",
   "execution_count": 13,
   "metadata": {},
   "outputs": [
    {
     "name": "stdout",
     "output_type": "stream",
     "text": [
      "woai\n"
     ]
    }
   ],
   "source": [
    "love='woai'\n",
    "print(love)"
   ]
  },
  {
   "cell_type": "code",
   "execution_count": 15,
   "metadata": {},
   "outputs": [
    {
     "name": "stdout",
     "output_type": "stream",
     "text": [
      "woai\n"
     ]
    }
   ],
   "source": [
    "love=\"woai\"\n",
    "print(love)"
   ]
  },
  {
   "cell_type": "code",
   "execution_count": null,
   "metadata": {},
   "outputs": [],
   "source": []
  },
  {
   "cell_type": "code",
   "execution_count": null,
   "metadata": {},
   "outputs": [],
   "source": []
  },
  {
   "cell_type": "code",
   "execution_count": null,
   "metadata": {},
   "outputs": [],
   "source": []
  },
  {
   "cell_type": "code",
   "execution_count": 12,
   "metadata": {},
   "outputs": [
    {
     "name": "stdout",
     "output_type": "stream",
     "text": [
      "\n",
      "woaiwangxiaojing\n",
      "我爱王晓静\n",
      "\n",
      "\n"
     ]
    }
   ],
   "source": [
    "html='''\n",
    "woaiwangxiaojing\n",
    "我爱王晓静\n",
    "\n",
    "'''\n",
    "print(html)\n"
   ]
  },
  {
   "cell_type": "code",
   "execution_count": null,
   "metadata": {},
   "outputs": [],
   "source": []
  },
  {
   "cell_type": "markdown",
   "metadata": {},
   "source": []
  }
 ],
 "metadata": {
  "kernelspec": {
   "display_name": "Python 3",
   "language": "python",
   "name": "python3"
  },
  "language_info": {
   "codemirror_mode": {
    "name": "ipython",
    "version": 3
   },
   "file_extension": ".py",
   "mimetype": "text/x-python",
   "name": "python",
   "nbconvert_exporter": "python",
   "pygments_lexer": "ipython3",
   "version": "3.6.4"
  }
 },
 "nbformat": 4,
 "nbformat_minor": 2
}
