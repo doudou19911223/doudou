{
 "cells": [
  {
   "cell_type": "markdown",
   "metadata": {},
   "source": [
    "# 三大结构\n",
    "- 顺序\n",
    "- 分支\n",
    "- 循环"
   ]
  },
  {
   "cell_type": "markdown",
   "metadata": {},
   "source": [
    "# 分支\n",
    "- 分支的基本语法\n",
    "\n",
    "           if 条件表达式：\n",
    "               语句1\n",
    "               语句2\n",
    "               语句3\n",
    "               ......\n",
    "               tab键缩进\n",
    "- 条件表达式就是计算结果必须为布尔值的表达式\n",
    "- 表达式后面的冒号不能少\n",
    "- 注意if后面出现的语句，如果属于if语句块，则必须同一个缩进等级\n",
    "- 条件表达式结果为True执行if后面的缩进的语句块"
   ]
  },
  {
   "cell_type": "code",
   "execution_count": 7,
   "metadata": {},
   "outputs": [
    {
     "name": "stdout",
     "output_type": "stream",
     "text": [
      "开始上车咯，老司机们\n"
     ]
    }
   ],
   "source": [
    "# if语句练习\n",
    "# 如果age小鱼18岁，则打印信息“去叫家长”\n",
    "age=19\n",
    "if age<18:\n",
    "    print(\"去叫家长把，孩子\")\n",
    "    print(\"滚球的\")\n",
    "print(\"开始上车咯，老司机们\")"
   ]
  },
  {
   "cell_type": "code",
   "execution_count": 11,
   "metadata": {},
   "outputs": [
    {
     "name": "stdout",
     "output_type": "stream",
     "text": [
      "今天学习for循环\n",
      "开始讲课了\n"
     ]
    }
   ],
   "source": [
    "print(\"今天学习for循环\")\n",
    "gender=\"男\"\n",
    "if gender == \"女\":\n",
    "    print(\"来，发糖吃\")\n",
    "print(\"开始讲课了\")"
   ]
  },
  {
   "cell_type": "markdown",
   "metadata": {},
   "source": [
    "# 双向分支\n",
    "- if ...else...语句\n",
    "                  if  条件表达式：\n",
    "                     语句1\n",
    "                     语句2\n",
    "                     。。。\n",
    "                   else：\n",
    "                     语句1\n",
    "                     语句2\n",
    "                     。。。\n",
    "- 双向分支有两个分支，当程序执行到if。。。else。。。语句的时候，一定会执行一个，也仅执行一个   "
   ]
  },
  {
   "cell_type": "code",
   "execution_count": 4,
   "metadata": {},
   "outputs": [
    {
     "name": "stdout",
     "output_type": "stream",
     "text": [
      "请输入性别：nv\n",
      "你输入的性别是：nv\n",
      "发糖\n"
     ]
    }
   ],
   "source": [
    "#input的作用是\n",
    "#1.在屏幕上输出括号内的字符串\n",
    "#2.接受用户输入的内容并返回到程序\n",
    "#3.input返回的内容一定是字符串类型\n",
    "gender = input(\"请输入性别：\")\n",
    "print(\"你输入的性别是：{0}\".format(gender))\n",
    "if gender==\"nan\":\n",
    "    print(\"来,代码打10遍\")\n",
    "else:\n",
    "     print(\"发糖\")"
   ]
  },
  {
   "cell_type": "code",
   "execution_count": 8,
   "metadata": {},
   "outputs": [
    {
     "name": "stdout",
     "output_type": "stream",
     "text": [
      "请输入性别：nv\n",
      "你输入的性别是：nv\n",
      "发糖\n",
      "你是女\n"
     ]
    }
   ],
   "source": [
    "gender = input(\"请输入性别：\")\n",
    "print(\"你输入的性别是：{0}\".format(gender))\n",
    "if gender == \"nan\":\n",
    "    print(\"来,代码打10遍\")\n",
    "else:\n",
    "    print(\"发糖\")\n",
    "    print(\"你是女\")"
   ]
  },
  {
   "cell_type": "code",
   "execution_count": 1,
   "metadata": {},
   "outputs": [
    {
     "name": "stdout",
     "output_type": "stream",
     "text": [
      "请输入学生成绩：80\n",
      "B\n"
     ]
    }
   ],
   "source": [
    "# 考试成绩\n",
    "# 90以上：输出优秀\n",
    "#80-90：良\n",
    "#60以下：不及格\n",
    "#score 存放学生成绩\n",
    "#注意input的返回值类型:一定是字符串，需要先将变量定义成int，才可以数字比较\n",
    "score=input(\"请输入学生成绩：\")\n",
    "# 需要把str转换成int\n",
    "score=int(score)\n",
    "if score>=90:\n",
    "    print(\"A\")\n",
    "if score>=80 and score<90:\n",
    "    print(\"B\")\n",
    "if score>=70 and score < 80:\n",
    "    print(\"C\")\n",
    "if score >=60 and score <70:\n",
    "    print(\"D\")\n",
    "if score < 60:\n",
    "    print(\"不及格\")"
   ]
  },
  {
   "cell_type": "markdown",
   "metadata": {},
   "source": [
    "# 多路分支\n",
    "- 很多分支的情况，简称多路分支\n",
    "        if   条件表达式：\n",
    "            语句1\n",
    "            。。。\n",
    "        elif  条件表达式：\n",
    "            语句1\n",
    "            。。。\n",
    "        elif 条件表达式：\n",
    "            语句1\n",
    "            。。。\n",
    "- elif 可以有很多个\n",
    "- else\n"
   ]
  },
  {
   "cell_type": "code",
   "execution_count": 8,
   "metadata": {},
   "outputs": [
    {
     "name": "stdout",
     "output_type": "stream",
     "text": [
      "请输入学生成绩：59\n",
      "不及格\n"
     ]
    }
   ],
   "source": [
    "score=input(\"请输入学生成绩：\")\n",
    "score=int(score)\n",
    "if score>=90:\n",
    "    print(\"A\")\n",
    "elif score>=80:\n",
    "    print(\"B\")\n",
    "elif score>=70:\n",
    "    print(\"C\")\n",
    "elif score >=60:\n",
    "    print(\"D\")\n",
    "else:\n",
    "    print(\"不及格\")"
   ]
  },
  {
   "cell_type": "markdown",
   "metadata": {},
   "source": [
    "# if语句其他：\n",
    "- if语句可以嵌套使用，但不推荐\n",
    "- python没有switch-case语句"
   ]
  },
  {
   "cell_type": "markdown",
   "metadata": {},
   "source": [
    "# 循环语句\n",
    "- 重复执行某些固定动作或者处理基本固定的事物\n",
    "- 分类\n",
    "    - for循环\n",
    "    - while循环\n",
    "   \n",
    "## for循环\n",
    "- for循环\n",
    "       - for 变量 in 序列\n",
    "             - 语句1\n",
    "             - 语句2\n",
    "             -  。。。\n",
    "            "
   ]
  },
  {
   "cell_type": "code",
   "execution_count": 10,
   "metadata": {},
   "outputs": [
    {
     "name": "stdout",
     "output_type": "stream",
     "text": [
      "zhangsan\n",
      "lisi\n"
     ]
    }
   ],
   "source": [
    "# 列表就是一列数字或者其他值，一般用中括号表示\n",
    "# 例如 ['zhangsan','lisi']\n",
    "# 打印学生列表姓名\n",
    "for name in ['zhangsan','lisi']:\n",
    "        print(name)"
   ]
  },
  {
   "cell_type": "code",
   "execution_count": 24,
   "metadata": {},
   "outputs": [
    {
     "name": "stdout",
     "output_type": "stream",
     "text": [
      "zhangsan\n",
      "同学不约\n",
      "lisi\n",
      "我最爱出现了\n",
      "jingjing\n",
      "同学不约\n",
      "别的不是我的学生\n"
     ]
    }
   ],
   "source": [
    "#打印学生列表姓名\n",
    "# 如果是jingjing，那肯定就是我的最爱\n",
    "# 如果其他学生，就要冷库拒绝\n",
    "for name in ['zhangsan','lisi','jingjing']:\n",
    "    print(name)\n",
    "    if name==\"lisi\":\n",
    "        print(\"我最爱出现了\")\n",
    "    else:\n",
    "        print(\"同学不约\")\n",
    "else:\n",
    "    print(\"别的不是我的学生\")"
   ]
  },
  {
   "cell_type": "markdown",
   "metadata": {},
   "source": [
    "# range 介绍\n",
    "- 生成一个数字序列\n",
    "- 具体范围可以设定"
   ]
  },
  {
   "cell_type": "code",
   "execution_count": 22,
   "metadata": {},
   "outputs": [
    {
     "name": "stdout",
     "output_type": "stream",
     "text": [
      "1\n",
      "2\n",
      "3\n",
      "4\n",
      "5\n",
      "6\n",
      "7\n",
      "8\n",
      "9\n",
      "10\n"
     ]
    }
   ],
   "source": [
    "# range练习\n",
    "# 打印1-10的数字\n",
    "# 注意，一般在python中，如果有表示数字范围的两个数，一般是包含左边数字，\n",
    "#不包含右边的数字\n",
    "# randint是特例，它左右都包含\n",
    "# range 函数在python2和3中有严重区别\n",
    "for i in range(1,11):\n",
    "    print(i)"
   ]
  },
  {
   "cell_type": "markdown",
   "metadata": {},
   "source": [
    "## for-else 语句\n",
    "- 当for循环结束的时候，会执行else语句\n",
    "- else语句是可选语句\n"
   ]
  },
  {
   "cell_type": "code",
   "execution_count": 26,
   "metadata": {},
   "outputs": [
    {
     "name": "stdout",
     "output_type": "stream",
     "text": [
      "zhangsan\n",
      "同学不约\n",
      "lisi\n",
      "我最爱出现了\n",
      "jingjing\n",
      "同学不约\n",
      "别的不是我的学生\n"
     ]
    }
   ],
   "source": [
    "# for-else语句\n",
    "# 打印列表中的同学\n",
    "#打印学生列表姓名\n",
    "# 如果是jingjing，那肯定就是我的最爱\n",
    "# 如果其他学生，就要冷库拒绝\n",
    "for name in ['zhangsan','lisi','jingjing']:\n",
    "    print(name)\n",
    "    if name==\"lisi\":\n",
    "        print(\"我最爱出现了\")\n",
    "    else:\n",
    "        print(\"同学不约\")\n",
    "else:\n",
    "    print(\"别的不是我的学生\")"
   ]
  },
  {
   "cell_type": "markdown",
   "metadata": {},
   "source": [
    "# for循环之break，continue，pass\n",
    "- break： 无条件结束整个循环，简称循环猝死\n",
    "- continue：无条件结束本次循环，重新进入下一轮循环\n",
    "- pass：表示略过，通常用于站位"
   ]
  },
  {
   "cell_type": "code",
   "execution_count": 32,
   "metadata": {},
   "outputs": [
    {
     "name": "stdout",
     "output_type": "stream",
     "text": [
      "1\n",
      "2\n",
      "3\n",
      "4\n",
      "5\n",
      "6\n",
      "我找到了\n"
     ]
    }
   ],
   "source": [
    "# 在1-10的数字中，寻找数字7，一旦找到，打印出来，其余则什么都不做\n",
    "# for循环中的变量表示，一般用i，k，m，n，或者indx，idx，item之类\n",
    "# 在python中，如果循环变量名称不重要，可以用下划线（_）代替\n",
    "for i in range(1,11):\n",
    "    if i == 7:\n",
    "        print(\"我找到了\")\n",
    "        break\n",
    "    else:\n",
    "        print(i)\n",
    "    "
   ]
  },
  {
   "cell_type": "code",
   "execution_count": 35,
   "metadata": {},
   "outputs": [
    {
     "name": "stdout",
     "output_type": "stream",
     "text": [
      "2是偶数\n",
      "4是偶数\n",
      "6是偶数\n",
      "8是偶数\n",
      "10是偶数\n"
     ]
    }
   ],
   "source": [
    "# continue语句；练习\n",
    "# 在1-10的数字中，寻找所有偶数，找到偶数后打印偶数，奇数不干\n",
    "\n",
    "for i in range(1,11):\n",
    "    if i % 2==1:\n",
    "        continue\n",
    "    else:\n",
    "        print(\"{0}是偶数\".format(i))\n",
    "    "
   ]
  },
  {
   "cell_type": "code",
   "execution_count": 37,
   "metadata": {},
   "outputs": [
    {
     "name": "stdout",
     "output_type": "stream",
     "text": [
      "2是偶数\n",
      "4是偶数\n",
      "6是偶数\n",
      "8是偶数\n",
      "10是偶数\n"
     ]
    }
   ],
   "source": [
    "# continue语句；练习2\n",
    "# 在1-10的数字中，寻找所有偶数，找到偶数后打印偶数，奇数不干\n",
    "\n",
    "for i in range(1,11):\n",
    "    if i % 2==0:\n",
    "        print(\"{0}是偶数\".format(i))\n",
    "    "
   ]
  },
  {
   "cell_type": "code",
   "execution_count": 39,
   "metadata": {},
   "outputs": [
    {
     "name": "stdout",
     "output_type": "stream",
     "text": [
      "2是偶数\n",
      "4是偶数\n",
      "6是偶数\n",
      "8是偶数\n",
      "10是偶数\n"
     ]
    }
   ],
   "source": [
    "# continue语句；练习3\n",
    "# 在1-10的数字中，寻找所有偶数，找到偶数后打印偶数，奇数不干\n",
    "# 本案例完整显示continue的用法和作用\n",
    "for i in range(1,11):\n",
    "    if i % 2==1:\n",
    "        continue\n",
    "    print(\"{0}是偶数\".format(i))"
   ]
  },
  {
   "cell_type": "code",
   "execution_count": 40,
   "metadata": {},
   "outputs": [],
   "source": [
    "# pass例子，一般用于占位\n",
    "# pass没有跳过功能\n",
    "for i in range(1,11):\n",
    "    pass\n",
    "    print(\"wozaizheli\")"
   ]
  }
 ],
 "metadata": {
  "kernelspec": {
   "display_name": "Python 3",
   "language": "python",
   "name": "python3"
  },
  "language_info": {
   "codemirror_mode": {
    "name": "ipython",
    "version": 3
   },
   "file_extension": ".py",
   "mimetype": "text/x-python",
   "name": "python",
   "nbconvert_exporter": "python",
   "pygments_lexer": "ipython3",
   "version": "3.6.4"
  }
 },
 "nbformat": 4,
 "nbformat_minor": 2
}
