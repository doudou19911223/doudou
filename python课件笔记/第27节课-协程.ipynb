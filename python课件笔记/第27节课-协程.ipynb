{
 "cells": [
  {
   "cell_type": "markdown",
   "metadata": {},
   "source": [
    "# 协程\n",
    "- 参考资料\n",
    "    -http://python.jobbole.com/86481/\n",
    "    -http://python.jobbole.com/87310/\n",
    "    -https://segmentfault.com/a/1190000009781688\n",
    "    \n",
    "# 迭代器\n",
    "- 可迭代（Iterable）：直接作用于for循环的变量\n",
    "- 迭代器（Iterator）：不但可以作用于for循环，还有可以被next调用\n",
    "- list是典型的可迭代对象，但不是迭代器\n",
    "- 通过isinstance判断\n",
    "- Iterable 和Iterator可以转换\n",
    "    - 通过iter函数"
   ]
  },
  {
   "cell_type": "code",
   "execution_count": 2,
   "metadata": {},
   "outputs": [
    {
     "name": "stdout",
     "output_type": "stream",
     "text": [
      "0\n",
      "1\n",
      "2\n",
      "3\n",
      "4\n",
      "5\n",
      "6\n",
      "7\n",
      "8\n",
      "9\n",
      "0\n",
      "1\n",
      "2\n",
      "3\n",
      "4\n"
     ]
    }
   ],
   "source": [
    "# 可迭代\n",
    "l=[i for i in range(10)]\n",
    "# l是可迭代的，但不是迭代器\n",
    "for idx in l:\n",
    "    print(idx)\n",
    "    \n",
    "    \n",
    "# range 是个迭代器\n",
    "for i in range(5):\n",
    "    print(i)"
   ]
  },
  {
   "cell_type": "code",
   "execution_count": 8,
   "metadata": {},
   "outputs": [
    {
     "name": "stdout",
     "output_type": "stream",
     "text": [
      "True\n",
      "False\n"
     ]
    }
   ],
   "source": [
    "# isinstance案例\n",
    "# 判断某个变量是否是个实例\n",
    "\n",
    "# 判断是否可迭代\n",
    "from collections import Iterable\n",
    "ll = [1,2,3,4,5]\n",
    "print(isinstance(ll,Iterable))\n",
    "\n",
    "\n",
    "from collections import Iterator\n",
    "print(isinstance(ll,Iterator))"
   ]
  },
  {
   "cell_type": "code",
   "execution_count": 10,
   "metadata": {},
   "outputs": [
    {
     "name": "stdout",
     "output_type": "stream",
     "text": [
      "True\n",
      "False\n",
      "True\n",
      "True\n"
     ]
    }
   ],
   "source": [
    "# iter函数\n",
    "s = \"i love wangxiaojing\"\n",
    "print(isinstance(s,Iterable))  \n",
    "print(isinstance(s,Iterator))\n",
    "\n",
    "\n",
    "s_iter = iter(s)\n",
    "print(isinstance(s_iter,Iterable))  \n",
    "print(isinstance(s_iter,Iterator))"
   ]
  },
  {
   "cell_type": "markdown",
   "metadata": {},
   "source": [
    "# 生成器\n",
    "- generator ：一边循环一边计算下一个元素的机制/算法\n",
    "- 需要满足三个条件\n",
    "    - 每次调用都生产出for循环需要的下一个元素\n",
    "    - 如果达到最后一个后，报出stopiteration异常\n",
    "    - 可以被next函数调用\n",
    "    \n",
    "- 如何生成一个生成器\n",
    "    - 直接使用\n",
    "    - 如果函数中包含yield，则这个函数就叫生成器\n",
    "    - next调用函数，遇到yield返回"
   ]
  },
  {
   "cell_type": "code",
   "execution_count": 11,
   "metadata": {},
   "outputs": [
    {
     "name": "stdout",
     "output_type": "stream",
     "text": [
      "<class 'list'>\n",
      "<class 'generator'>\n"
     ]
    }
   ],
   "source": [
    "# 直接使用生成器\n",
    "\n",
    "L = [x*x for x in range(5)] # 放在中括号是列表生成器 \n",
    "g = (x*x for x in range(5)) # 放在小括号里就是生成器\n",
    "\n",
    "print(type(L))\n",
    "print(type(g))"
   ]
  },
  {
   "cell_type": "code",
   "execution_count": 13,
   "metadata": {},
   "outputs": [
    {
     "name": "stdout",
     "output_type": "stream",
     "text": [
      "step 1\n",
      "step 2\n",
      "step 3\n"
     ]
    }
   ],
   "source": [
    "# 函数案例\n",
    "\n",
    "\n",
    "def odd():\n",
    "    print(\"step 1\")\n",
    "    print(\"step 2\")\n",
    "    print(\"step 3\")\n",
    "    return None\n",
    "odd()\n",
    "\n",
    "\n"
   ]
  },
  {
   "cell_type": "code",
   "execution_count": 20,
   "metadata": {},
   "outputs": [
    {
     "name": "stdout",
     "output_type": "stream",
     "text": [
      "step 1\n",
      "1\n",
      "step 2\n",
      "1\n",
      "step 3\n",
      "1\n"
     ]
    }
   ],
   "source": [
    "# 生成器案例\n",
    "# 在函数odd中，yield负责返回\n",
    "def odd():\n",
    "    print(\"step 1\")\n",
    "    yield 1\n",
    "    print(\"step 2\")\n",
    "    yield 1\n",
    "    print(\"step 3\")\n",
    "    yield 1\n",
    "    return None\n",
    "# odd()是调用生成器\n",
    "g = odd()\n",
    "one= next(g)\n",
    "print(one)\n",
    "\n",
    "two = next(g)\n",
    "print(two)\n",
    "\n",
    "three = next(g)\n",
    "print(three)"
   ]
  },
  {
   "cell_type": "code",
   "execution_count": 22,
   "metadata": {},
   "outputs": [
    {
     "name": "stdout",
     "output_type": "stream",
     "text": [
      "1\n",
      "1\n",
      "2\n",
      "3\n",
      "5\n"
     ]
    },
    {
     "data": {
      "text/plain": [
       "'Done'"
      ]
     },
     "execution_count": 22,
     "metadata": {},
     "output_type": "execute_result"
    }
   ],
   "source": [
    "# for 循环调用生成器\n",
    "def fib(max):\n",
    "    n,a,b = 0,0,1\n",
    "    while n < max:\n",
    "        print(b)\n",
    "        a,b = b, a+b  # 注意写法\n",
    "        n += 1\n",
    "        \n",
    "    return \"Done\"\n",
    "fib(5)\n",
    "\n",
    "        "
   ]
  },
  {
   "cell_type": "code",
   "execution_count": 26,
   "metadata": {},
   "outputs": [
    {
     "name": "stdout",
     "output_type": "stream",
     "text": [
      "1\n",
      "1\n",
      "2\n",
      "3\n",
      "5\n"
     ]
    },
    {
     "ename": "StopIteration",
     "evalue": "Done",
     "output_type": "error",
     "traceback": [
      "\u001b[1;31m---------------------------------------------------------------------------\u001b[0m",
      "\u001b[1;31mStopIteration\u001b[0m                             Traceback (most recent call last)",
      "\u001b[1;32m<ipython-input-26-5e8bc105b4f0>\u001b[0m in \u001b[0;36m<module>\u001b[1;34m()\u001b[0m\n\u001b[0;32m     10\u001b[0m \u001b[0mg\u001b[0m \u001b[1;33m=\u001b[0m \u001b[0mfib\u001b[0m\u001b[1;33m(\u001b[0m\u001b[1;36m5\u001b[0m\u001b[1;33m)\u001b[0m\u001b[1;33m\u001b[0m\u001b[0m\n\u001b[0;32m     11\u001b[0m \u001b[1;32mfor\u001b[0m  \u001b[0mi\u001b[0m  \u001b[1;32min\u001b[0m \u001b[0mrange\u001b[0m \u001b[1;33m(\u001b[0m\u001b[1;36m6\u001b[0m\u001b[1;33m)\u001b[0m\u001b[1;33m:\u001b[0m\u001b[1;33m\u001b[0m\u001b[0m\n\u001b[1;32m---> 12\u001b[1;33m     \u001b[0mrst\u001b[0m \u001b[1;33m=\u001b[0m \u001b[0mnext\u001b[0m\u001b[1;33m(\u001b[0m\u001b[0mg\u001b[0m\u001b[1;33m)\u001b[0m\u001b[1;33m\u001b[0m\u001b[0m\n\u001b[0m\u001b[0;32m     13\u001b[0m     \u001b[0mprint\u001b[0m\u001b[1;33m(\u001b[0m\u001b[0mrst\u001b[0m\u001b[1;33m)\u001b[0m\u001b[1;33m\u001b[0m\u001b[0m\n",
      "\u001b[1;31mStopIteration\u001b[0m: Done"
     ]
    }
   ],
   "source": [
    "# 斐波那契数列的生成器写法\n",
    "def fib(max):\n",
    "    n,a,b = 0,0,1\n",
    "    while n < max:\n",
    "        yield b\n",
    "        a,b = b, a+b  # 注意写法\n",
    "        n += 1\n",
    "    # 需要注意，报出异常的返回值是return的返回值   Done\n",
    "    return \"Done\"\n",
    "g = fib(5)\n",
    "for  i  in range (6):\n",
    "    rst = next(g)\n",
    "    print(rst)"
   ]
  },
  {
   "cell_type": "code",
   "execution_count": 27,
   "metadata": {},
   "outputs": [
    {
     "name": "stdout",
     "output_type": "stream",
     "text": [
      "1\n",
      "1\n",
      "2\n",
      "3\n",
      "5\n"
     ]
    }
   ],
   "source": [
    "def fib(max):\n",
    "    n,a,b = 0,0,1\n",
    "    while n < max:\n",
    "        yield b\n",
    "        a,b = b, a+b  # 注意写法\n",
    "        n += 1\n",
    "    # 需要注意，报出异常的返回值是return的返回值   Done\n",
    "    return \"Done\"\n",
    "g = fib(5)\n",
    "for  i  in g:\n",
    "    \n",
    "    print(i)"
   ]
  },
  {
   "cell_type": "code",
   "execution_count": 24,
   "metadata": {},
   "outputs": [
    {
     "name": "stdout",
     "output_type": "stream",
     "text": [
      "1\n",
      "1\n",
      "2\n",
      "3\n",
      "5\n",
      "8\n",
      "13\n",
      "21\n",
      "34\n",
      "55\n"
     ]
    }
   ],
   "source": [
    "ge = fib(10)\n",
    "'''\n",
    "生成器的典型用法是在for中使用\n",
    "比较常用的典型生产器就是range\n",
    "'''\n",
    "for i in ge :# 在for循环中使用生成器\n",
    "    print(i)"
   ]
  },
  {
   "cell_type": "markdown",
   "metadata": {},
   "source": [
    "# 协程\n",
    "- 历史历程\n",
    "    - 3.4 引入协程，用yield 实现\n",
    "    - 3.5引入协程语法\n",
    "    - 实现的协程比较好的包有asyncio，tornado，gevent\n",
    "- 定义：协程是为非抢占式多任务产生子程序的计算机程序组件，协程允许不同入口点在不同位置暂停或开始执行程序\n",
    "- 从技术角度讲，协程就是一个你可以暂停执行的函数，或者干脆把协程理解成生成器\n",
    "- 协程的实现：\n",
    "    - yield返回\n",
    "    - send调用\n",
    "- 协程的四个状态\n",
    "    - inspect.getgeneratorstate(…) 函数确定，该函数会返回下述字符串中的一个：\n",
    "    - GEN_CREATED：等待开始执行\n",
    "    - GEN_RUNNING：解释器正在执行\n",
    "    - GEN_SUSPENED：在yield表达式处暂停\n",
    "    - GEN_CLOSED：执行结束\n",
    "    - next预激（prime)\n",
    "    - 代码案例v2\n",
    "- 协程终止\n",
    "    - 协程中未处理的异常会向上冒泡，传给next函数或send方法的调用方（即触发协程的对象）\n",
    "    - 终止协程的一种方式：发送某个哨符值，让协程退出。内置的None和Ellipsis等常量经常用作哨符值\n",
    "    \n",
    "- yield from \n",
    "    - 调用协程为了得到返回值，协程必须正常终止\n",
    "    - 生成器正常终止会发出StopIteration 异常，异常对象的value属性保存返回值\n",
    "    - yield from从内部捕获StopIteration异常\n",
    "    - 案例v03\n",
    "    - 委派生成器\n",
    "        - 包含yield from 表达式的生成器函数\n",
    "        - 委派生成器在yield from表达式出现暂停，调用方可以直接把数据发给自生成器\n",
    "        - 子生成器在把产出的值发给调用方\n",
    "        - 自生成器在最后，解释器会抛出StopIteration，并且把返回值附加到异常对象上\n",
    "        - 案例v04"
   ]
  },
  {
   "cell_type": "code",
   "execution_count": 29,
   "metadata": {},
   "outputs": [
    {
     "name": "stdout",
     "output_type": "stream",
     "text": [
      "111\n",
      "-> start\n",
      "222\n",
      "-> recived nihao\n"
     ]
    },
    {
     "ename": "StopIteration",
     "evalue": "",
     "output_type": "error",
     "traceback": [
      "\u001b[1;31m---------------------------------------------------------------------------\u001b[0m",
      "\u001b[1;31mStopIteration\u001b[0m                             Traceback (most recent call last)",
      "\u001b[1;32m<ipython-input-29-dc95ac5c361a>\u001b[0m in \u001b[0;36m<module>\u001b[1;34m()\u001b[0m\n\u001b[0;32m     13\u001b[0m \u001b[1;33m\u001b[0m\u001b[0m\n\u001b[0;32m     14\u001b[0m \u001b[0mprint\u001b[0m\u001b[1;33m(\u001b[0m\u001b[1;36m222\u001b[0m\u001b[1;33m)\u001b[0m\u001b[1;33m\u001b[0m\u001b[0m\n\u001b[1;32m---> 15\u001b[1;33m \u001b[0msc\u001b[0m\u001b[1;33m.\u001b[0m\u001b[0msend\u001b[0m\u001b[1;33m(\u001b[0m\u001b[1;34m\"nihao\"\u001b[0m\u001b[1;33m)\u001b[0m\u001b[1;33m\u001b[0m\u001b[0m\n\u001b[0m",
      "\u001b[1;31mStopIteration\u001b[0m: "
     ]
    }
   ],
   "source": [
    "# 协程代码案例1\n",
    "def simple_coroutine():\n",
    "    print(\"-> start\")\n",
    "    x = yield\n",
    "    print(\"-> recived\", x)\n",
    "    \n",
    "    \n",
    "# 主线程\n",
    "sc = simple_coroutine()\n",
    "print(111)\n",
    "# 可以使用sc.send(None),效果一样\n",
    "next(sc)# 预激\n",
    "\n",
    "print(222)\n",
    "sc.send(\"nihao\")\n"
   ]
  },
  {
   "cell_type": "code",
   "execution_count": 38,
   "metadata": {},
   "outputs": [
    {
     "name": "stdout",
     "output_type": "stream",
     "text": [
      "-> start\n",
      "5\n",
      "-> recived 5 6\n",
      "11\n",
      "-> recived 5 6 7\n"
     ]
    },
    {
     "ename": "StopIteration",
     "evalue": "",
     "output_type": "error",
     "traceback": [
      "\u001b[1;31m---------------------------------------------------------------------------\u001b[0m",
      "\u001b[1;31mStopIteration\u001b[0m                             Traceback (most recent call last)",
      "\u001b[1;32m<ipython-input-38-47be5030d20e>\u001b[0m in \u001b[0;36m<module>\u001b[1;34m()\u001b[0m\n\u001b[0;32m     16\u001b[0m \u001b[0mbb\u001b[0m \u001b[1;33m=\u001b[0m \u001b[0msc\u001b[0m\u001b[1;33m.\u001b[0m\u001b[0msend\u001b[0m\u001b[1;33m(\u001b[0m\u001b[1;36m6\u001b[0m\u001b[1;33m)\u001b[0m\u001b[1;33m\u001b[0m\u001b[0m\n\u001b[0;32m     17\u001b[0m \u001b[0mprint\u001b[0m\u001b[1;33m(\u001b[0m\u001b[0mbb\u001b[0m\u001b[1;33m)\u001b[0m\u001b[1;33m\u001b[0m\u001b[0m\n\u001b[1;32m---> 18\u001b[1;33m \u001b[0mcc\u001b[0m \u001b[1;33m=\u001b[0m \u001b[0msc\u001b[0m\u001b[1;33m.\u001b[0m\u001b[0msend\u001b[0m\u001b[1;33m(\u001b[0m\u001b[1;36m7\u001b[0m\u001b[1;33m)\u001b[0m\u001b[1;33m\u001b[0m\u001b[0m\n\u001b[0m\u001b[0;32m     19\u001b[0m \u001b[0mprint\u001b[0m\u001b[1;33m(\u001b[0m\u001b[0mcc\u001b[0m\u001b[1;33m)\u001b[0m\u001b[1;33m\u001b[0m\u001b[0m\n\u001b[0;32m     20\u001b[0m \u001b[1;32mreturn\u001b[0m \u001b[1;34m\"no\"\u001b[0m\u001b[1;33m\u001b[0m\u001b[0m\n",
      "\u001b[1;31mStopIteration\u001b[0m: "
     ]
    }
   ],
   "source": [
    "# 代码v2，协程的状态\n",
    "\n",
    "def simple_coroutine(a):\n",
    "        print(\"-> start\")\n",
    "        \n",
    "        b = yield a\n",
    "        print(\"-> recived\", a, b)\n",
    "        \n",
    "        c = yield a+b\n",
    "        print(\"-> recived\", a, b, c)\n",
    "      \n",
    "# runc        \n",
    "sc = simple_coroutine(5)\n",
    "aa = next(sc)\n",
    "print(aa)\n",
    "bb = sc.send(6)\n",
    "print(bb)\n",
    "cc = sc.send(7)\n",
    "print(cc)\n"
   ]
  },
  {
   "cell_type": "code",
   "execution_count": 45,
   "metadata": {},
   "outputs": [
    {
     "name": "stdout",
     "output_type": "stream",
     "text": [
      "['A', 'B']\n",
      "['A', 'B']\n"
     ]
    }
   ],
   "source": [
    "# 案例v03\n",
    "def gen():\n",
    "    for i in \"AB\":\n",
    "        yield i \n",
    "# list 直接用生成器做为参数      \n",
    "print(list(gen()))\n",
    "\n",
    "def gen_new():\n",
    "    yield from \"AB\"\n",
    "print(list(gen_new()))"
   ]
  },
  {
   "cell_type": "code",
   "execution_count": 47,
   "metadata": {},
   "outputs": [
    {
     "name": "stdout",
     "output_type": "stream",
     "text": [
      "{'boys_2': Res(count=9, average=40.422222222222224), 'boys_1': Res(count=9, average=1.3888888888888888)}\n"
     ]
    },
    {
     "ename": "NameError",
     "evalue": "name 'storages' is not defined",
     "output_type": "error",
     "traceback": [
      "\u001b[1;31m---------------------------------------------------------------------------\u001b[0m",
      "\u001b[1;31mNameError\u001b[0m                                 Traceback (most recent call last)",
      "\u001b[1;32m<ipython-input-47-0bba6615e382>\u001b[0m in \u001b[0;36m<module>\u001b[1;34m()\u001b[0m\n\u001b[0;32m     63\u001b[0m \u001b[1;31m# run\u001b[0m\u001b[1;33m\u001b[0m\u001b[1;33m\u001b[0m\u001b[0m\n\u001b[0;32m     64\u001b[0m \u001b[0mclient\u001b[0m\u001b[1;33m(\u001b[0m\u001b[1;33m)\u001b[0m\u001b[1;33m\u001b[0m\u001b[0m\n\u001b[1;32m---> 65\u001b[1;33m \u001b[0mprint\u001b[0m\u001b[1;33m(\u001b[0m\u001b[0mstorages\u001b[0m\u001b[1;33m[\u001b[0m\u001b[1;36m1\u001b[0m\u001b[1;33m]\u001b[0m\u001b[1;33m)\u001b[0m\u001b[1;33m\u001b[0m\u001b[0m\n\u001b[0m",
      "\u001b[1;31mNameError\u001b[0m: name 'storages' is not defined"
     ]
    }
   ],
   "source": [
    "# 案例v04， 委派生成器\n",
    "from collections import namedtuple\n",
    "\n",
    "'''\n",
    "解释：\n",
    "1. 外层 for 循环每次迭代会新建一个 grouper 实例，赋值给 coroutine 变量； grouper 是委派生成器。\n",
    "2. 调用 next(coroutine)，预激委派生成器 grouper，此时进入 while True 循环，调用子生成器 averager 后，在 yield from 表达式处暂停。\n",
    "3. 内层 for 循环调用 coroutine.send(value)，直接把值传给子生成器 averager。同时，当前的 grouper 实例（coroutine）在 yield from 表达式处暂停。\n",
    "4. 内层循环结束后， grouper 实例依旧在 yield from 表达式处暂停，因此， grouper函数定义体中为 results[key] 赋值的语句还没有执行。\n",
    "5. coroutine.send(None) 终止 averager 子生成器，子生成器抛出 StopIteration 异常并将返回的数据包含在异常对象的value中，yield from 可以直接抓取 StopItration 异常并将异常对象的 value 赋值给 results[key]\n",
    "'''\n",
    "ResClass = namedtuple('Res', 'count average')\n",
    "\n",
    "\n",
    "# 子生成器\n",
    "def averager():\n",
    "    total = 0.0\n",
    "    count = 0\n",
    "    average = None\n",
    "\n",
    "    while True:\n",
    "        term = yield\n",
    "        # None是哨兵值\n",
    "        if term is None:\n",
    "            break\n",
    "        total += term\n",
    "        count += 1\n",
    "        average = total / count\n",
    "\n",
    "    return ResClass(count, average)\n",
    "\n",
    "\n",
    "# 委派生成器\n",
    "def grouper(storages, key):\n",
    "    while True:\n",
    "        # 获取averager()返回的值\n",
    "        storages[key] = yield from averager()\n",
    "\n",
    "\n",
    "# 客户端代码\n",
    "def client():\n",
    "    process_data = {\n",
    "        'boys_2': [39.0, 40.8, 43.2, 40.8, 43.1, 38.6, 41.4, 40.6, 36.3],\n",
    "        'boys_1': [1.38, 1.5, 1.32, 1.25, 1.37, 1.48, 1.25, 1.49, 1.46]\n",
    "    }\n",
    "\n",
    "    storages = {}\n",
    "    for k, v in process_data.items():\n",
    "        # 获得协程\n",
    "        coroutine = grouper(storages, k)\n",
    "\n",
    "        # 预激协程\n",
    "        next(coroutine)\n",
    "\n",
    "        # 发送数据到协程\n",
    "        for dt in v:\n",
    "            coroutine.send(dt)\n",
    "\n",
    "        # 终止协程\n",
    "        coroutine.send(None)\n",
    "    print(storages)\n",
    "\n",
    "# run\n",
    "client()"
   ]
  },
  {
   "cell_type": "markdown",
   "metadata": {},
   "source": [
    "# 还剩下的内容\n",
    "- xml，json\n",
    "- re，xpath\n",
    "- 网络编程：socket，ftp，mail\n",
    "- http协议，==》http web sever 小项目\n",
    "- django，尽可能详尽\n",
    "\n",
    "\n",
    "\n",
    "- 习题课\n",
    "\n",
    "- 爬虫\n"
   ]
  },
  {
   "cell_type": "code",
   "execution_count": null,
   "metadata": {},
   "outputs": [],
   "source": [
    "# asyncio\n",
    "- python3.4 开始引入标准库当中 ，内置对异步io的支持\n",
    "- asyncio本身是一个消息循环\n",
    "- 步骤：\n",
    "    - 创建消息循环\n",
    "    - 把协程导入\n",
    "    - 关闭"
   ]
  },
  {
   "cell_type": "code",
   "execution_count": 2,
   "metadata": {},
   "outputs": [
    {
     "ename": "SyntaxError",
     "evalue": "invalid syntax (<ipython-input-2-a60d8561d15d>, line 11)",
     "output_type": "error",
     "traceback": [
      "\u001b[1;36m  File \u001b[1;32m\"<ipython-input-2-a60d8561d15d>\"\u001b[1;36m, line \u001b[1;32m11\u001b[0m\n\u001b[1;33m    yield from asyncio.sleep(5)\u001b[0m\n\u001b[1;37m        ^\u001b[0m\n\u001b[1;31mSyntaxError\u001b[0m\u001b[1;31m:\u001b[0m invalid syntax\n"
     ]
    }
   ],
   "source": [
    "import threading\n",
    "# 映入异步io包\n",
    "import asyncio\n",
    "\n",
    "# 使用协程\n",
    "@asyncio.coroutine\n",
    "def hello():\n",
    "    print(\"hello world!(%s)\"%threading.currentThread())\n",
    "    print(\"start.....(%s)\"%threading.currentThread()\n",
    "    yield from asyncio.sleep(5)\n",
    "    print(\"done...(%s)\"%threading.currentThread)\n",
    "    print(\"hello again!(%s)\"%threading.currentThread())    \n",
    "# 启动消息循环          \n",
    "loop = asyncio.get_event_loop()\n",
    "# 定义任务\n",
    "tasks = [hello(),hello()]\n",
    "# asyncio 使用wait等待task执行完毕\n",
    "loop.run_until_complete(asyncio.wait(tasks))\n",
    "# 关闭消息循环\n",
    "loop.close()"
   ]
  },
  {
   "cell_type": "code",
   "execution_count": 4,
   "metadata": {},
   "outputs": [],
   "source": [
    "\n",
    "import asyncio\n",
    "\n",
    "# 使用协程\n",
    "@asyncio.coroutine\n",
    "def wget(host):\n",
    "    print(\"wget %s...\"% host)\n",
    "    # 异步请求网络地址\n",
    "    connect = asyncio.open_connection(host,80)\n",
    "    # 注意yield from的用法\n",
    "    reader,writer = yield from connect\n",
    "    header = \"GET/ HTTP/1.0\\r\\nHost:%s\\r\\n\\r\\n\"% host\n",
    "    writer.write(header.encode(\"utd-8\"))\n",
    "    yield from writer.drain()\n",
    "    while True:\n",
    "        line = yield from reader.readerline()\n",
    "        # http协议的换行使用\\r\\n\n",
    "        if line == b'\\r\\n':\n",
    "            break\n",
    "        print('%s header > %s'% (host,line.decode('utf-8').rstrip()))\n",
    "    # Ignore the body，close the socket \n",
    "    writer.close()\n",
    "    \n",
    "    loop = asyncio.get_event_loop\n",
    "    task = [wget(host) for host in ['www.sina.com.cn', 'www.sohu.com', 'www.163.com']]\n",
    "    loop.run_until_complete(asyncioncio.wait(tasks))\n",
    "    loop.close()\n",
    "    "
   ]
  },
  {
   "cell_type": "markdown",
   "metadata": {},
   "source": [
    "#  async and await\n",
    "- 为了更好的表示异步io\n",
    "- python3.5引入\n",
    "- 让协程代码更简洁\n",
    "- 使用上，可以简单的进行替换\n",
    "    - 用async替换@asyncio.coroutine\n",
    "    - await替换yield from"
   ]
  },
  {
   "cell_type": "code",
   "execution_count": 6,
   "metadata": {},
   "outputs": [
    {
     "ename": "SyntaxError",
     "evalue": "invalid syntax (<ipython-input-6-55e38972f966>, line 8)",
     "output_type": "error",
     "traceback": [
      "\u001b[1;36m  File \u001b[1;32m\"<ipython-input-6-55e38972f966>\"\u001b[1;36m, line \u001b[1;32m8\u001b[0m\n\u001b[1;33m    await asyncio.sleep(5)\u001b[0m\n\u001b[1;37m        ^\u001b[0m\n\u001b[1;31mSyntaxError\u001b[0m\u001b[1;31m:\u001b[0m invalid syntax\n"
     ]
    }
   ],
   "source": [
    "import threading\n",
    "import asyncio\n",
    "\n",
    "#@asyncio.coroutine\n",
    "async  def hello():\n",
    "    print(\"hello world!(%s)\"%threading.currentThread())\n",
    "    print(\"start.....(%s)\"%threading.currentThread()\n",
    "    await asyncio.sleep(5)\n",
    "    print(\"done...(%s)\"%threading.currentThread)\n",
    "    print(\"hello again!(%s)\"%threading.currentThread())             \n",
    "loop = asyncio.get_event_loop()\n",
    "tasks = [hello(),hello()]\n",
    "loop.run_until_complete(asyncio.wait(tasks))\n",
    "loop.close()"
   ]
  },
  {
   "cell_type": "markdown",
   "metadata": {},
   "source": [
    "# aiohttp\n",
    "- asyncio 实现单线程的并发io，在客户端用处不大\n",
    "- 在服务器端可以asyncio+coroutine配合，因为http是io操作\n",
    "- asyncio实现了tcp，udp，ssl等协议\n",
    "- aiohttp是给予asyncio实现的http框架\n",
    "- pip install aiohttp安装\n"
   ]
  },
  {
   "cell_type": "code",
   "execution_count": null,
   "metadata": {},
   "outputs": [],
   "source": [
    "# aiohttp案例\n",
    "import asyncio\n",
    "\n",
    "from aiohttp import web\n",
    "\n",
    "async def index(request):\n",
    "    await asyncio.sleep(0.5)\n",
    "    return web.Response(body=b'<h1>Index</h1>')\n",
    "\n",
    "async def hello(request):\n",
    "    await asyncio.sleep(0.5)\n",
    "    text = '<h1>hello,%s!</h1>' % request,match_info['name']\n",
    "    return web.Response(body=text.encode('utf-8'))\n",
    "\n",
    "async def init(loop):\n",
    "    app = web.Application(loop=loop)\n",
    "    app.router.add_route('GET', '/', index)\n",
    "    app.router.add_route('GET', '/hello/{name}', hello)\n",
    "    srv = await loop.create_server(app.make_handler(), '127.0.0.1', 80)\n",
    "    print('server started at http://127.0.0.1:8000...')\n",
    "    return srv\n",
    "\n",
    "loop = asyncio.get_event_loop()\n",
    "loop.run_until_complete(init(loop))\n",
    "loop,run_forever()\n",
    "    "
   ]
  },
  {
   "cell_type": "markdown",
   "metadata": {},
   "source": [
    "# concurrent.futures\n",
    "- python3新增的库\n",
    "- 类似其他语言的线程池的概念\n",
    "- 利用mutiprocessing实现真正的并行计算\n",
    "- 核心原理：以子进程的形式，并行运行多个python解释器，从而令python程序可以利用多核CPU来提升执行速度。\n",
    "由于子进程与主解释器相分离，所以他们的全局解释器锁有认识相互独立的。每个子进程都能够完整的使用一个CPU内核。\n",
    "\n",
    "- concurrent.futures.Executor\n",
    "    - ThreadPoolExecutor\n",
    "    - ProcessPoolExecutor\n",
    "    - 执行的时候需要自行选择\n",
    "- submit（fn，args，kwargs）\n",
    "    - fn：异步执行的函数\n",
    "    - args，kwargs参数\n",
    "    \n",
    "    "
   ]
  },
  {
   "cell_type": "code",
   "execution_count": 7,
   "metadata": {},
   "outputs": [
    {
     "name": "stdout",
     "output_type": "stream",
     "text": [
      "False\n",
      "True\n",
      "hello\n",
      "hello\n"
     ]
    }
   ],
   "source": [
    "#  关于concurrent的案例\n",
    "from concurrent.futures import ThreadPoolExecutor\n",
    "import time\n",
    "\n",
    "\n",
    "def return_future(msg):\n",
    "    time.sleep(3)\n",
    "    return msg\n",
    "\n",
    "# 创建一个线程池\n",
    "\n",
    "pool = ThreadPoolExecutor(max_workers=2)\n",
    "\n",
    "# 往线程池假如2个task\n",
    "f1 =pool.submit(return_future,'hello')\n",
    "f2 =pool.submit(return_future,'hello')\n",
    "\n",
    "\n",
    "# d等待执行完毕\n",
    "print(f1.done())\n",
    "time.sleep(3)\n",
    "print(f2.done())\n",
    "\n",
    "# 结果\n",
    "print(f1.result())\n",
    "print(f2.result())\n"
   ]
  },
  {
   "cell_type": "markdown",
   "metadata": {},
   "source": [
    "# current中map函数\n",
    "- map（fn，\\*iterables,timeout=None）\n",
    "    - 跟map函数类似\n",
    "    - 函数需要异步执行\n",
    "    - timeout：超时时间\n",
    "    - map跟submit使用一个就行\n",
    "# Future\n",
    "    - 大拿的同学三分钟后来家做客，大拿想送给同学一条香烟作为礼物\n",
    "    - 可是大拿手里没有存货\n",
    "    - 于是让张同学帮大拿去买烟\n",
    "    - 商店离大拿来回路程30分钟，\n",
    "    - 无奈大拿在朋友来后，只好拿一个空盒子给朋友看，并告诉朋友这是大拿送给的礼物\n",
    "    - 随后大拿和朋友吹了一个小时牛逼\n",
    "    - 期间27分钟后张同学带着香烟返回，并将香烟放入烟盒\n",
    "        - 两个小时后大拿朋友离开，并带走了大拿送给他的香烟\n",
    "        - 其中用来展示"
   ]
  },
  {
   "cell_type": "code",
   "execution_count": 8,
   "metadata": {},
   "outputs": [
    {
     "name": "stdout",
     "output_type": "stream",
     "text": [
      "1\n",
      "2\n",
      "OK\n",
      "OK\n"
     ]
    }
   ],
   "source": [
    "# map案例\n",
    "import time,re\n",
    "import os,datetime\n",
    "from concurrent import futures\n",
    "\n",
    "data = ['1', '2']\n",
    "\n",
    "def wait_on(argument):\n",
    "    print(argument)\n",
    "    time.sleep(2)\n",
    "    return \"OK\"\n",
    "\n",
    "ex = futures.ThreadPoolExecutor(max_workers=2)\n",
    "for i in ex.map(wait_on,data):\n",
    "    print(i)"
   ]
  }
 ],
 "metadata": {
  "kernelspec": {
   "display_name": "Python 3",
   "language": "python",
   "name": "python3"
  },
  "language_info": {
   "codemirror_mode": {
    "name": "ipython",
    "version": 3
   },
   "file_extension": ".py",
   "mimetype": "text/x-python",
   "name": "python",
   "nbconvert_exporter": "python",
   "pygments_lexer": "ipython3",
   "version": "3.6.4"
  }
 },
 "nbformat": 4,
 "nbformat_minor": 2
}
