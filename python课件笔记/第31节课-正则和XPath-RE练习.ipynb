{
 "cells": [
  {
   "cell_type": "markdown",
   "metadata": {},
   "source": [
    "# RE使用大致步骤\n",
    "- 使用compile将表示正则的字符串编译为一个pattern对象\n",
    "- 通过pattern对象提供一系列方法对文本进行查找匹配，获得一个匹配结果，一个Match对象\n",
    "- 最后使用Match对象提供的属性和方法获得信息，根据需要进行操作\n",
    "\n",
    "# Re常用函数\n",
    "- group（）：获得一个或者多个分组匹配的字符串，当要获得整个匹配的字串时，直接使用group或者group（0）\n",
    "- start：获取分组匹配的子串在整个字符串中的起始位置，参数默认为0\n",
    "- end： 获取分组匹配的子串在整个字符串中的结束位置，默认为0\n",
    "- span：返回的结构技术（start（group），end（group））\n",
    "\n"
   ]
  },
  {
   "cell_type": "code",
   "execution_count": 26,
   "metadata": {},
   "outputs": [
    {
     "name": "stdout",
     "output_type": "stream",
     "text": [
      "<_sre.SRE_Match object; span=(3, 5), match='12'>\n"
     ]
    }
   ],
   "source": [
    "# 导入相关包\n",
    "import re\n",
    "# 查找数字\n",
    "# r表示字符擦混不转义\n",
    "p = re.compile(r'\\d+')\n",
    "# 在字符串“one12twothree33456for78”中进行查找，按照规则p制定的正则进行查找\n",
    "# 返回结果是None表示没有找到，否则会返回match对象\n",
    "# 参数3,26表示在字符串中查找的范围\n",
    "m = p.match(\"one12twothree33456for78\",3,26)\n",
    "\n",
    "print(m)\n",
    "# 上述代码说明的问题\n",
    "# 1.match可以输入参数表示起始位置\n",
    "# 2.查找到的结果只包含一个，表示第一次进行匹配成功的内容\n"
   ]
  },
  {
   "cell_type": "code",
   "execution_count": 27,
   "metadata": {},
   "outputs": [
    {
     "name": "stdout",
     "output_type": "stream",
     "text": [
      "12\n",
      "12\n",
      "3\n",
      "5\n"
     ]
    }
   ],
   "source": [
    "print(m[0])\n",
    "print(m.group(0))\n",
    "print(m.start(0))\n",
    "print(m.end(0))"
   ]
  },
  {
   "cell_type": "code",
   "execution_count": 28,
   "metadata": {},
   "outputs": [
    {
     "name": "stdout",
     "output_type": "stream",
     "text": [
      "<_sre.SRE_Match object; span=(0, 6), match='I love'>\n",
      "I love\n",
      "I love\n",
      "0\n",
      "6\n"
     ]
    }
   ],
   "source": [
    "import re\n",
    "# I表示忽略掉大小写\n",
    "p = re.compile(r'([a-z]+) ([a-z]+)', re.I)\n",
    "m = p.match(\"I love wangxiaojing\")\n",
    "print(m)\n",
    "print(m.group(0))\n",
    "print(m[0])\n",
    "print(m.start(0))\n",
    "print(m.end(0))"
   ]
  },
  {
   "cell_type": "code",
   "execution_count": 29,
   "metadata": {},
   "outputs": [
    {
     "name": "stdout",
     "output_type": "stream",
     "text": [
      "I\n",
      "I\n",
      "0\n",
      "1\n"
     ]
    }
   ],
   "source": [
    "print(m.group(1))\n",
    "print(m[1])\n",
    "print(m.start(1))\n",
    "print(m.end(1))"
   ]
  },
  {
   "cell_type": "code",
   "execution_count": 30,
   "metadata": {},
   "outputs": [
    {
     "name": "stdout",
     "output_type": "stream",
     "text": [
      "('I', 'love')\n"
     ]
    }
   ],
   "source": [
    "print(m.groups())"
   ]
  },
  {
   "cell_type": "markdown",
   "metadata": {},
   "source": [
    "# 查找\n",
    "- search(str,[, pos[, endpod]]):在字符串中查找匹配，pos和endpose表示起始位置\n",
    "- findall：查找所有\n",
    "- finditer:查找，返回一个iter结果"
   ]
  },
  {
   "cell_type": "code",
   "execution_count": 31,
   "metadata": {},
   "outputs": [
    {
     "name": "stdout",
     "output_type": "stream",
     "text": [
      "12\n"
     ]
    }
   ],
   "source": [
    "import re\n",
    "p = re.compile(r'\\d+')\n",
    "m = p.search(\"one12two34three567four\")\n",
    "\n",
    "print(m.group())"
   ]
  },
  {
   "cell_type": "code",
   "execution_count": 32,
   "metadata": {},
   "outputs": [
    {
     "name": "stdout",
     "output_type": "stream",
     "text": [
      "<class 'list'>\n",
      "['12', '34', '567']\n"
     ]
    }
   ],
   "source": [
    "rst = p.findall(\"one12two34three567four\")\n",
    "print(type(rst))\n",
    "print(rst)"
   ]
  },
  {
   "cell_type": "markdown",
   "metadata": {},
   "source": [
    "# sub 替换\n",
    "- sub（repl，str[, count]）"
   ]
  },
  {
   "cell_type": "code",
   "execution_count": 33,
   "metadata": {},
   "outputs": [
    {
     "name": "stdout",
     "output_type": "stream",
     "text": [
      "Hello world Hello world xiaojing, Hello world you\n"
     ]
    }
   ],
   "source": [
    "# sub替换案例\n",
    "import re\n",
    "p = re.compile(r'(\\w+) (\\w+)')\n",
    "\n",
    "s = \"hello 123 wang 456 xiaojing, i love you\"\n",
    "\n",
    "rst = p.sub(r'Hello world', s)\n",
    "print(rst)\n"
   ]
  },
  {
   "cell_type": "markdown",
   "metadata": {},
   "source": [
    "# 匹配中文\n",
    "- 大部分中文内容表示范围是[u4e00-u9fa5],不包括全角标点"
   ]
  },
  {
   "cell_type": "code",
   "execution_count": 37,
   "metadata": {},
   "outputs": [
    {
     "name": "stdout",
     "output_type": "stream",
     "text": [
      "['世界', '你好']\n"
     ]
    }
   ],
   "source": [
    "import re\n",
    "\n",
    "title = u'世界 你好，hello moto'\n",
    "\n",
    "p  = re.compile(r'[\\u4e00-\\u9fa5]+')\n",
    "\n",
    "rst = p.findall(title)\n",
    "\n",
    "print(rst)"
   ]
  },
  {
   "cell_type": "markdown",
   "metadata": {},
   "source": [
    "# 贪婪和非贪婪\n",
    "- 贪婪：尽可能多的匹配，（*）表示贪婪匹配\n",
    "- 非贪婪：找到符合条件的最小内容即可，（？）表示非贪婪\n",
    "- 正则默认使用贪婪匹配\n"
   ]
  },
  {
   "cell_type": "code",
   "execution_count": 40,
   "metadata": {},
   "outputs": [
    {
     "name": "stdout",
     "output_type": "stream",
     "text": [
      "<div>name</div><div>age</div>\n",
      "<div>name</div>\n"
     ]
    }
   ],
   "source": [
    "import re\n",
    "title = u'<div>name</div><div>age</div>'\n",
    "\n",
    "\n",
    "p1 = re.compile(r\"<div>.*</div>\")\n",
    "p2 = re.compile(r\"<div>.*?</div>\")\n",
    "\n",
    "\n",
    "m1 = p1.search(title)\n",
    "print(m1.group())\n",
    "\n",
    "m2 = p2.search(title)\n",
    "print(m2.group())"
   ]
  }
 ],
 "metadata": {
  "kernelspec": {
   "display_name": "Python 3",
   "language": "python",
   "name": "python3"
  },
  "language_info": {
   "codemirror_mode": {
    "name": "ipython",
    "version": 3
   },
   "file_extension": ".py",
   "mimetype": "text/x-python",
   "name": "python",
   "nbconvert_exporter": "python",
   "pygments_lexer": "ipython3",
   "version": "3.6.4"
  }
 },
 "nbformat": 4,
 "nbformat_minor": 2
}
