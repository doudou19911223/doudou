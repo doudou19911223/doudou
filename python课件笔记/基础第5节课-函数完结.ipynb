{
 "cells": [
  {
   "cell_type": "markdown",
   "metadata": {},
   "source": [
    "# 四类参数\n",
    "- 普通参数\n",
    "- 默认参数\n",
    "- 关键字参数\n",
    "- 收集参数\n",
    "\n",
    "## 关键字参数\n",
    "- 语法\n",
    "\n",
    "        def func（p1=v1,p2=v2.....）:\n",
    "            func_body\n",
    "            \n",
    "        调用函数：\n",
    "        func(p1=value1,p2=value2.....)\n",
    "- 比较麻烦，但也有好处：\n",
    "    - 不容易混淆，一般实参和形参只是按照位置一一对应即可，容易出错\n",
    "    - 使用关键字参数，可以不考虑参数位置"
   ]
  },
  {
   "cell_type": "code",
   "execution_count": 1,
   "metadata": {},
   "outputs": [
    {
     "name": "stdout",
     "output_type": "stream",
     "text": [
      "i am a student\n",
      "我叫jingjing，我今年18岁了，我住wojia\n"
     ]
    }
   ],
   "source": [
    "# 关键字参数案例\n",
    "def stu(name,age,addr):\n",
    "    print(\"i am a student\")\n",
    "    print(\"我叫{0}，我今年{1}岁了，我住{2}\".format(name,age,addr))\n",
    "    \n",
    "n=\"jingjing\"\n",
    "a=18\n",
    "addr=\"wojia\"\n",
    "stu(n,a,addr)"
   ]
  },
  {
   "cell_type": "code",
   "execution_count": 17,
   "metadata": {},
   "outputs": [
    {
     "name": "stdout",
     "output_type": "stream",
     "text": [
      "i am a student\n",
      "我叫jingjing，我今年18岁了，我住wojia\n",
      "i am a student\n",
      "我叫jingjing，我今年18岁了，我住wojia\n"
     ]
    }
   ],
   "source": [
    "# 关键字参数案例\n",
    "def stu(name,age,addr):\n",
    "    print(\"i am a student\")\n",
    "    print(\"我叫{0}，我今年{1}岁了，我住{2}\".format(name,age,addr))\n",
    "    \n",
    "n=\"jingjing\"\n",
    "a=18\n",
    "addr=\"wojia\"\n",
    "# 普通参数，只按照位置传递，容易出错\n",
    "stu(n, a, addr)\n",
    "def stu_key(name=\"No name\", age=0, addr=\"No addr\"):\n",
    "    print(\"i am a student\")\n",
    "    print(\"我叫{0}，我今年{1}岁了，我住{2}\".format(name,age,addr))\n",
    "    \n",
    "n = \"jingjing\"\n",
    "a = 18\n",
    "addr = \"wojia\"\n",
    "stu(age=a, name=n, addr=addr)\n"
   ]
  },
  {
   "cell_type": "markdown",
   "metadata": {},
   "source": [
    "## 收集参数\n",
    "- 把没有位置，不能定义的参数位置相对应的参数，放入一个特定的数据\n",
    "- 语法\n",
    "\n",
    "        def func(*args):\n",
    "            func_body\n",
    "            按照list使用方式访问args得到传入的参数\n",
    "         调用：\n",
    "         func(p1, p2, p3, .....)\n",
    "- 参数名args不是必须这么写，但是，我们推荐直接用args，约定俗成\n",
    "- 参数名args前需要由星号\n",
    "- 收集参数可以和其他参数共存"
   ]
  },
  {
   "cell_type": "code",
   "execution_count": 20,
   "metadata": {},
   "outputs": [
    {
     "name": "stdout",
     "output_type": "stream",
     "text": [
      "hello 大家好，我自我介绍一下，简单说两句：\n",
      "<class 'tuple'>\n",
      "liuying\n",
      "18\n",
      "北京\n",
      "single\n",
      "hello 大家好，我自我介绍一下，简单说两句：\n",
      "<class 'tuple'>\n",
      "周大神\n"
     ]
    }
   ],
   "source": [
    "# 收集参数代码\n",
    "#函数模拟一个学生进行自我介绍，但具体内容不清楚\n",
    "# args把他看做一个list\n",
    "def stu(*args):\n",
    "    print(\"hello 大家好，我自我介绍一下，简单说两句：\")\n",
    "    # type函数作用是检测变量的类型\n",
    "    print(type(args))\n",
    "    for item in args:\n",
    "        print(item)\n",
    "stu(\"liuying\", 18, \"北京\", \"single\")\n",
    "stu(\"周大神\")"
   ]
  },
  {
   "cell_type": "code",
   "execution_count": 21,
   "metadata": {},
   "outputs": [
    {
     "name": "stdout",
     "output_type": "stream",
     "text": [
      "hello 大家好，我自我介绍一下，简单说两句：\n",
      "<class 'tuple'>\n"
     ]
    }
   ],
   "source": [
    "# 收集参数案例\n",
    "# 说明收集参数可以不带任何实参调用，此时收集参数为空tuple\n",
    "stu()"
   ]
  },
  {
   "cell_type": "code",
   "execution_count": 22,
   "metadata": {},
   "outputs": [
    {
     "ename": "TypeError",
     "evalue": "stu() got an unexpected keyword argument 'name'",
     "traceback": [
      "\u001b[1;31m---------------------------------------------------------------------------\u001b[0m",
      "\u001b[1;31mTypeError\u001b[0m                                 Traceback (most recent call last)",
      "\u001b[1;32m<ipython-input-22-191626e9842b>\u001b[0m in \u001b[0;36m<module>\u001b[1;34m()\u001b[0m\n\u001b[0;32m      1\u001b[0m \u001b[1;31m# 如果使用关键字参数格式调用，会出现问题\u001b[0m\u001b[1;33m\u001b[0m\u001b[1;33m\u001b[0m\u001b[0m\n\u001b[1;32m----> 2\u001b[1;33m \u001b[0mstu\u001b[0m\u001b[1;33m(\u001b[0m\u001b[0mname\u001b[0m\u001b[1;33m=\u001b[0m\u001b[1;34m\"liuying\"\u001b[0m\u001b[1;33m)\u001b[0m\u001b[1;33m\u001b[0m\u001b[0m\n\u001b[0m",
      "\u001b[1;31mTypeError\u001b[0m: stu() got an unexpected keyword argument 'name'"
     ],
     "output_type": "error"
    }
   ],
   "source": [
    "# 如果使用关键字参数格式调用，会出现问题\n",
    "stu(name=\"liuying\") "
   ]
  },
  {
   "cell_type": "markdown",
   "metadata": {},
   "source": [
    "# 收集参数之关键字参数\n",
    "- 把关键字参数按字典格式存入收集参数\n",
    "- 语法\n",
    "\n",
    "        def func（**kwargs）：\n",
    "            func_body\n",
    "        # 调用：\n",
    "        func（p1=v1 ,p2=v2,.....）\n",
    "   - kwargs一般约定俗成\n",
    "   - 调用的时候，把多余的关键字参数放入kwargs\n",
    "   - 访问kwargs需要按字典格式访问"
   ]
  },
  {
   "cell_type": "code",
   "execution_count": 35,
   "metadata": {},
   "outputs": [
    {
     "name": "stdout",
     "output_type": "stream",
     "text": [
      "hello,大家好，我先自我介绍下\n",
      "<class 'dict'>\n",
      "name --- liuying\n",
      "age --- 19\n",
      "addr --- beijing\n",
      "********************\n",
      "hello,大家好，我先自我介绍下\n",
      "<class 'dict'>\n",
      "name --- 周大神\n"
     ]
    }
   ],
   "source": [
    "# 收集参数案例\n",
    "# 自我介绍\n",
    "# 调用的时候需要使用关键字参数调用\n",
    "\n",
    "def stu(**kwargs):\n",
    "    # 在函数体内对于kwargs的使用不用带星号\n",
    "    print(\"hello,大家好，我先自我介绍下\")\n",
    "    print(type(kwargs))\n",
    "    # 对于字典的访问，python2和3有去呗\n",
    "    for k,v in kwargs.items():\n",
    "        print(k,\"---\", v)\n",
    "stu(name=\"liuying\", age=19, addr=\"beijing\")\n",
    "print(\"*\"*20)\n",
    "stu(name=\"周大神\")"
   ]
  },
  {
   "cell_type": "code",
   "execution_count": 36,
   "metadata": {},
   "outputs": [
    {
     "name": "stdout",
     "output_type": "stream",
     "text": [
      "hello,大家好，我先自我介绍下\n",
      "<class 'dict'>\n"
     ]
    }
   ],
   "source": [
    "# 收集参数可以空案例\n",
    "stu()"
   ]
  },
  {
   "cell_type": "markdown",
   "metadata": {},
   "source": [
    "# 收集参数混合调用的顺序问题\n",
    "- 收集参数，关键字参数，普通参数可以混合使用\n",
    "- 使用规则就是，普通参数和关键字参数优先\n",
    "- 定义的时候一般找普通参数，关键字参数，收集参数tuple，收集参数dict"
   ]
  },
  {
   "cell_type": "code",
   "execution_count": 55,
   "metadata": {},
   "outputs": [
    {
     "name": "stdout",
     "output_type": "stream",
     "text": [
      "hello ，大家好\n",
      "我叫liuying，我今年18大了\n",
      "我的爱好是游泳\n",
      "********************\n",
      "wangxaiojign\n",
      "liushitou\n",
      "hobby1   烹饪\n",
      "hobby2   看书\n",
      "####################\n",
      "hello ，大家好\n",
      "我叫liyang，我今年68大了\n",
      "我的爱好是打球\n",
      "********************\n"
     ]
    }
   ],
   "source": [
    "# 收集参数混合调用案例\n",
    "# stu模拟一个学生的自我介绍\n",
    "def stu(name, age,*args, hobby=\"没有\", **kwargs):\n",
    "    print(\"hello ，大家好\")\n",
    "    print(\"我叫{0}，我今年{1}大了\".format(name,age))\n",
    "    if hobby == \"没有\":\n",
    "        print(\"我没有爱好\")\n",
    "    else:\n",
    "        print(\"我的爱好是{0}\".format(hobby))\n",
    "    print(\"*\"*20)\n",
    "    for i in args:\n",
    "        print(i)\n",
    "    for k,v in kwargs.items():\n",
    "        print(k, \" \", v )\n",
    "stu(\"liuying\", 18,\"wangxaiojign\", \"liushitou\", hobby=\"游泳\",  hobby1=\"烹饪\", hobby2=\"看书\" )\n",
    "print(\"#\"*20)\n",
    "stu(\"liyang\", 68, hobby=\"打球\")"
   ]
  },
  {
   "cell_type": "markdown",
   "metadata": {},
   "source": [
    "## 收集参数的解包问题\n",
    "- 把参数放入list或者字典中，直接把list/dict中的值放入收集参数中\n",
    "- 语法：参看案例"
   ]
  },
  {
   "cell_type": "code",
   "execution_count": 69,
   "metadata": {},
   "outputs": [
    {
     "name": "stdout",
     "output_type": "stream",
     "text": [
      "哈哈哈\n",
      "<class 'str'>\n",
      "0\n",
      "liuying\n",
      "<class 'str'>\n",
      "1\n",
      "liuxiaojing\n",
      "<class 'int'>\n",
      "2\n",
      "19\n",
      "<class 'int'>\n",
      "3\n",
      "200\n"
     ]
    }
   ],
   "source": [
    "# 收集参数的解包问题\n",
    "def stu(*args):\n",
    "    print(\"哈哈哈\")\n",
    "    n=0\n",
    "    for i in args:\n",
    "        print(type(i))\n",
    "        print(n)\n",
    "        n+=1\n",
    "        print(i)\n",
    "l=[\"liuying\",\"liuxiaojing\",19,200]\n",
    "\n",
    "stu(*l)\n",
    "# 此时，args的表示形式是自店内的一个list类型的元素，即args=\"liuying\",\"liuxiaojing\",19,200\n",
    "#很显然跟我们最初的想法违背\n",
    "#此时的调用，我们就需要解包符号，即调用的时候前面加一个星号"
   ]
  },
  {
   "cell_type": "code",
   "execution_count": 88,
   "metadata": {},
   "outputs": [
    {
     "name": "stdout",
     "output_type": "stream",
     "text": [
      "哈哈哈\n",
      "<class 'dict'>\n",
      "0\n",
      "b 1\n",
      "<class 'dict'>\n",
      "1\n",
      "a 18\n"
     ]
    }
   ],
   "source": [
    "# 收集参数的解包问题\n",
    "def stu(**kwargs):\n",
    "    print(\"哈哈哈\")\n",
    "    n=0\n",
    "    for k,v in kwargs.items():\n",
    "        print(type(kwargs))\n",
    "        print(n)\n",
    "        n+=1\n",
    "        print(k, v)\n",
    "l={\"b\":1,\"a\":18}\n",
    "\n",
    "stu(**l)\n",
    "# 此时，args的表示形式是自店内的一个list类型的元素，即args=\"liuying\",\"liuxiaojing\",19,200\n",
    "#很显然跟我们最初的想法违背\n",
    "#此时的调用，我们就需要解包符号，即调用的时候前面加一个星号"
   ]
  },
  {
   "cell_type": "markdown",
   "metadata": {},
   "source": [
    "### 同理，dict类型收集参数一样可以解包，但是\n",
    "- 对dict类型进行解包\n",
    "- 需要用两个星号进行解包\n",
    "\n",
    "## 返回值\n",
    "- 函数和过程的区别\n",
    "    - 有无返回值\n",
    "- 需要用return现实返回内容、\n",
    "- 如果没有返回，则默认返回None\n",
    "- 推荐写法，无论有无返回值，最后都要以return结束"
   ]
  },
  {
   "cell_type": "code",
   "execution_count": 95,
   "metadata": {},
   "outputs": [
    {
     "name": "stdout",
     "output_type": "stream",
     "text": [
      "有返回值\n",
      "1\n",
      "没有返回值\n",
      "None\n"
     ]
    }
   ],
   "source": [
    "# 返回值示例\n",
    "def func_1():\n",
    "    print(\"有返回值\")\n",
    "    return 1\n",
    "def func_2():\n",
    "    print(\"没有返回值\")\n",
    "    return None  # 不写return就默认返回None，但推荐要写\n",
    "f1 =func_1()\n",
    "print(f1)\n",
    "f2 =func_2()\n",
    "print( f2)"
   ]
  },
  {
   "cell_type": "markdown",
   "metadata": {},
   "source": [
    "# 函数文档\n",
    "- 函数的文档的作用是对当前函数提供使用相关的参考信息\n",
    "- 文档的写法：\n",
    "    - 在函数内部开始的第一行使用三引号字符串定义符\n",
    "    - 一般具有特定格式\n",
    "    - 参看案例\n",
    "- 文档查看\n",
    "    - 使用help函数，形如help（func）\n",
    "    - 使用__doc__,参看案例"
   ]
  },
  {
   "cell_type": "code",
   "execution_count": 120,
   "metadata": {},
   "outputs": [],
   "source": [
    "# 文档案例\n",
    "# 函数stu是模拟一个学生的自我介绍的内容\n",
    "def stu(name, age, *args):\n",
    "    '''\n",
    "    这是文档的文字内容\n",
    "    :param name: 表示姓名\n",
    "    :param age: 表示年龄\n",
    "    :return: 1\n",
    "    '''\n",
    "    print(\"this is hanshu stu\")\n"
   ]
  },
  {
   "cell_type": "code",
   "execution_count": 121,
   "metadata": {},
   "outputs": [
    {
     "name": "stdout",
     "output_type": "stream",
     "text": [
      "Help on function stu in module __main__:\n",
      "\n",
      "stu(name, age, *args)\n",
      "    这是文档的文字内容\n",
      "    :param name: 表示姓名\n",
      "    :param age: 表示年龄\n",
      "    :return: 1\n",
      "\n"
     ]
    },
    {
     "data": {
      "text/plain": [
       "'\\n    这是文档的文字内容\\n    :param name: 表示姓名\\n    :param age: 表示年龄\\n    :return: 1\\n    '"
      ]
     },
     "execution_count": 121,
     "metadata": {},
     "output_type": "execute_result"
    }
   ],
   "source": [
    "# 查看函数文档\n",
    "help(stu)\n",
    "\n",
    "stu.__doc__"
   ]
  },
  {
   "cell_type": "code",
   "execution_count": 122,
   "metadata": {},
   "outputs": [
    {
     "name": "stdout",
     "output_type": "stream",
     "text": [
      "Help on function stu in module __main__:\n",
      "\n",
      "stu(name, age, *args)\n",
      "    这是文档的文字内容\n",
      "    :param name: 表示姓名\n",
      "    :param age: 表示年龄\n",
      "    :return: 1\n",
      "\n",
      "None\n",
      "\n",
      "    这是文档的文字内容\n",
      "    :param name: 表示姓名\n",
      "    :param age: 表示年龄\n",
      "    :return: 1\n",
      "    \n"
     ]
    }
   ],
   "source": [
    "# 查看函数文档\n",
    "print(help(stu))\n",
    "\n",
    "print(stu.__doc__)\n"
   ]
  }
 ],
 "metadata": {
  "kernelspec": {
   "display_name": "Python 3",
   "language": "python",
   "name": "python3"
  },
  "language_info": {
   "codemirror_mode": {
    "name": "ipython",
    "version": 3
   },
   "file_extension": ".py",
   "mimetype": "text/x-python",
   "name": "python",
   "nbconvert_exporter": "python",
   "pygments_lexer": "ipython3",
   "version": "3.6.4"
  }
 },
 "nbformat": 4,
 "nbformat_minor": 2
}
