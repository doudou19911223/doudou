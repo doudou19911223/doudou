{
 "cells": [
  {
   "cell_type": "markdown",
   "metadata": {},
   "source": [
    "# 变量作用域\n",
    "- 变量由作用范围限制\n",
    "- 分类：按照作用域分类\n",
    "    - 全局（global）：在函数外部定义\n",
    "    - 局部（local）：在函数内部定义\n",
    "- 变量的作用范围\n",
    "    - 全局变量：在整个全局范围都有效\n",
    "    - 全局变量在局部可以使用（即函数内部可以方位函数外部定义的变量）\n",
    "    - 局部变量在局部范围可以使用\n",
    "    - 局部变量在全局范围无法使用\n",
    "- LEGB原则\n",
    "    - L（local）局部作用域\n",
    "    - E（enclosing function locale）外部嵌套函数作用域\n",
    "    - G（global module）函数定义所在模块作用域\n",
    "    - B（buildin）：python内置魔抗的作用域"
   ]
  },
  {
   "cell_type": "code",
   "execution_count": 6,
   "metadata": {},
   "outputs": [
    {
     "name": "stdout",
     "output_type": "stream",
     "text": [
      "100\n",
      "100\n",
      "i am liuying\n",
      "99\n"
     ]
    },
    {
     "ename": "NameError",
     "evalue": "name 'a2' is not defined",
     "output_type": "error",
     "traceback": [
      "\u001b[1;31m---------------------------------------------------------------------------\u001b[0m",
      "\u001b[1;31mNameError\u001b[0m                                 Traceback (most recent call last)",
      "\u001b[1;32m<ipython-input-6-69286d2e1d3e>\u001b[0m in \u001b[0;36m<module>\u001b[1;34m()\u001b[0m\n\u001b[0;32m      9\u001b[0m \u001b[0mprint\u001b[0m\u001b[1;33m(\u001b[0m\u001b[0ma1\u001b[0m\u001b[1;33m)\u001b[0m\u001b[1;33m\u001b[0m\u001b[0m\n\u001b[0;32m     10\u001b[0m \u001b[0mfun\u001b[0m\u001b[1;33m(\u001b[0m\u001b[1;33m)\u001b[0m\u001b[1;33m\u001b[0m\u001b[0m\n\u001b[1;32m---> 11\u001b[1;33m \u001b[0mprint\u001b[0m\u001b[1;33m(\u001b[0m\u001b[0ma2\u001b[0m\u001b[1;33m)\u001b[0m\u001b[1;33m\u001b[0m\u001b[0m\n\u001b[0m",
      "\u001b[1;31mNameError\u001b[0m: name 'a2' is not defined"
     ]
    }
   ],
   "source": [
    "# 认为a1是全局的\n",
    "a1=100\n",
    "def fun():\n",
    "    print(a1)\n",
    "    print(\"i am liuying\")\n",
    "    # a2的作用范围是fun\n",
    "    a2=99\n",
    "    print(a2)\n",
    "print(a1)\n",
    "fun()\n",
    "print(a2)"
   ]
  },
  {
   "cell_type": "markdown",
   "metadata": {},
   "source": [
    "## 提升局部变量为为全局变量\n",
    "- 使用global\n",
    "- 案例如下"
   ]
  },
  {
   "cell_type": "code",
   "execution_count": 28,
   "metadata": {},
   "outputs": [
    {
     "name": "stdout",
     "output_type": "stream",
     "text": [
      "100\n",
      "i am liuying\n",
      "99\n",
      "100\n"
     ]
    }
   ],
   "source": [
    "\n",
    "def fun(): \n",
    "    global b1\n",
    "    b1=100\n",
    "    print(b1)\n",
    "    print(\"i am liuying\")\n",
    "    # a2的作用范围是fun\n",
    "    b2=99\n",
    "    print(b2)\n",
    "\n",
    "#print(b2)\n",
    "fun()\n",
    "# print（b1）如果在函数调用上面，则不好使，报错，为什么？？？\n",
    "print(b1)\n"
   ]
  },
  {
   "cell_type": "markdown",
   "metadata": {},
   "source": [
    "# globals,locals函数\n",
    "- 可以通过globals和locals现实出局部变量和全局变量\n",
    "- 参看案例"
   ]
  },
  {
   "cell_type": "code",
   "execution_count": 12,
   "metadata": {},
   "outputs": [
    {
     "name": "stdout",
     "output_type": "stream",
     "text": [
      "locals={'e': 111, 'd': 200, 'c': 100}\n",
      "locals={'__name__': '__main__', '__doc__': 'Automatically created module for IPython interactive environment', '__package__': None, '__loader__': None, '__spec__': None, '__builtin__': <module 'builtins' (built-in)>, '__builtins__': <module 'builtins' (built-in)>, '_ih': ['', '# 认为a1是全局的\\na1=100\\ndef fun():\\n    print(a)\\n    print(\"i sm liuying\")\\n    a2=99\\n    print(a2)\\nprint(a1)\\nprint(a2)', '# 认为a1是全局的\\na1=100\\ndef fun():\\n    print(a)\\n    print(\"i sm liuying\")\\n    a2=99\\n    print(a2)\\nprint(a1)\\nfun()', '# 认为a1是全局的\\na1=100\\ndef fun():\\n    print(a1)\\n    print(\"i sm liuying\")\\n    a2=99\\n    print(a2)\\nprint(a1)\\nfun()', '# 认为a1是全局的\\na1=100\\ndef fun():\\n    print(a1)\\n    print(\"i sm liuying\")\\n    a2=99\\n    print(a2)\\nprint(a1)\\nfun()\\nprint(a2)', '# 认为a1是全局的\\na1=100\\ndef fun():\\n    print(a1)\\n    print(\"i am liuying\")\\n    # a2的作用范围是fun\\n    a2=99\\n    print(a2)\\nprint(a1)\\nfun()', '# 认为a1是全局的\\na1=100\\ndef fun():\\n    print(a1)\\n    print(\"i am liuying\")\\n    # a2的作用范围是fun\\n    a2=99\\n    print(a2)\\nprint(a1)\\nfun()\\nprint(a2)', '\\ndef fun():\\n    global b1=100\\n    print(b1)\\n    print(\"i am liuying\")\\n    # a2的作用范围是fun\\n    b2=99\\n    print(b2)\\nprint(b1)\\n#print(b2)\\nfun()', '\\ndef fun():\\n    global b1\\n    b1=100\\n    print(b1)\\n    print(\"i am liuying\")\\n    # a2的作用范围是fun\\n    b2=99\\n    print(b2)\\nprint(b1)\\n#print(b2)\\nfun()', '\\ndef fun():\\n    global b1\\n    b1=100\\n   \\n    print(\"i am liuying\")\\n    # a2的作用范围是fun\\n    b2=99\\n    print(b2)\\nprint(b1)\\n#print(b2)\\nfun()', '\\ndef fun():\\n    global b1\\n    b1=100\\n    print(b1)\\n    print(\"i am liuying\")\\n    # a2的作用范围是fun\\n    b2=99\\n    print(b2)\\nprint(b1)\\n#print(b2)\\nfun()', '# globals和locals\\na=1\\nb=2\\ndef fun(c,d):\\n    e=111\\n    print(\"locals={0}\".format(locals()))\\n    print(\"locals={0}\".format(locals()))\\nfun(100,200)', '# globals和locals\\na=1\\nb=2\\ndef fun(c,d):\\n    e=111\\n    print(\"locals={0}\".format(locals()))\\n    print(\"locals={0}\".format(globals()))\\nfun(100,200)'], '_oh': {}, '_dh': ['C:\\\\Users\\\\hp\\\\python课件笔记'], 'In': ['', '# 认为a1是全局的\\na1=100\\ndef fun():\\n    print(a)\\n    print(\"i sm liuying\")\\n    a2=99\\n    print(a2)\\nprint(a1)\\nprint(a2)', '# 认为a1是全局的\\na1=100\\ndef fun():\\n    print(a)\\n    print(\"i sm liuying\")\\n    a2=99\\n    print(a2)\\nprint(a1)\\nfun()', '# 认为a1是全局的\\na1=100\\ndef fun():\\n    print(a1)\\n    print(\"i sm liuying\")\\n    a2=99\\n    print(a2)\\nprint(a1)\\nfun()', '# 认为a1是全局的\\na1=100\\ndef fun():\\n    print(a1)\\n    print(\"i sm liuying\")\\n    a2=99\\n    print(a2)\\nprint(a1)\\nfun()\\nprint(a2)', '# 认为a1是全局的\\na1=100\\ndef fun():\\n    print(a1)\\n    print(\"i am liuying\")\\n    # a2的作用范围是fun\\n    a2=99\\n    print(a2)\\nprint(a1)\\nfun()', '# 认为a1是全局的\\na1=100\\ndef fun():\\n    print(a1)\\n    print(\"i am liuying\")\\n    # a2的作用范围是fun\\n    a2=99\\n    print(a2)\\nprint(a1)\\nfun()\\nprint(a2)', '\\ndef fun():\\n    global b1=100\\n    print(b1)\\n    print(\"i am liuying\")\\n    # a2的作用范围是fun\\n    b2=99\\n    print(b2)\\nprint(b1)\\n#print(b2)\\nfun()', '\\ndef fun():\\n    global b1\\n    b1=100\\n    print(b1)\\n    print(\"i am liuying\")\\n    # a2的作用范围是fun\\n    b2=99\\n    print(b2)\\nprint(b1)\\n#print(b2)\\nfun()', '\\ndef fun():\\n    global b1\\n    b1=100\\n   \\n    print(\"i am liuying\")\\n    # a2的作用范围是fun\\n    b2=99\\n    print(b2)\\nprint(b1)\\n#print(b2)\\nfun()', '\\ndef fun():\\n    global b1\\n    b1=100\\n    print(b1)\\n    print(\"i am liuying\")\\n    # a2的作用范围是fun\\n    b2=99\\n    print(b2)\\nprint(b1)\\n#print(b2)\\nfun()', '# globals和locals\\na=1\\nb=2\\ndef fun(c,d):\\n    e=111\\n    print(\"locals={0}\".format(locals()))\\n    print(\"locals={0}\".format(locals()))\\nfun(100,200)', '# globals和locals\\na=1\\nb=2\\ndef fun(c,d):\\n    e=111\\n    print(\"locals={0}\".format(locals()))\\n    print(\"locals={0}\".format(globals()))\\nfun(100,200)'], 'Out': {}, 'get_ipython': <bound method InteractiveShell.get_ipython of <ipykernel.zmqshell.ZMQInteractiveShell object at 0x0000000005692128>>, 'exit': <IPython.core.autocall.ZMQExitAutocall object at 0x00000000056B4470>, 'quit': <IPython.core.autocall.ZMQExitAutocall object at 0x00000000056B4470>, '_': '', '__': '', '___': '', '_i': '# globals和locals\\na=1\\nb=2\\ndef fun(c,d):\\n    e=111\\n    print(\"locals={0}\".format(locals()))\\n    print(\"locals={0}\".format(locals()))\\nfun(100,200)', '_ii': '\\ndef fun():\\n    global b1\\n    b1=100\\n    print(b1)\\n    print(\"i am liuying\")\\n    # a2的作用范围是fun\\n    b2=99\\n    print(b2)\\nprint(b1)\\n#print(b2)\\nfun()', '_iii': '\\ndef fun():\\n    global b1\\n    b1=100\\n   \\n    print(\"i am liuying\")\\n    # a2的作用范围是fun\\n    b2=99\\n    print(b2)\\nprint(b1)\\n#print(b2)\\nfun()', '_i1': '# 认为a1是全局的\\na1=100\\ndef fun():\\n    print(a)\\n    print(\"i sm liuying\")\\n    a2=99\\n    print(a2)\\nprint(a1)\\nprint(a2)', 'a1': 100, 'fun': <function fun at 0x00000000080D61E0>, '_i2': '# 认为a1是全局的\\na1=100\\ndef fun():\\n    print(a)\\n    print(\"i sm liuying\")\\n    a2=99\\n    print(a2)\\nprint(a1)\\nfun()', '_i3': '# 认为a1是全局的\\na1=100\\ndef fun():\\n    print(a1)\\n    print(\"i sm liuying\")\\n    a2=99\\n    print(a2)\\nprint(a1)\\nfun()', '_i4': '# 认为a1是全局的\\na1=100\\ndef fun():\\n    print(a1)\\n    print(\"i sm liuying\")\\n    a2=99\\n    print(a2)\\nprint(a1)\\nfun()\\nprint(a2)', '_i5': '# 认为a1是全局的\\na1=100\\ndef fun():\\n    print(a1)\\n    print(\"i am liuying\")\\n    # a2的作用范围是fun\\n    a2=99\\n    print(a2)\\nprint(a1)\\nfun()', '_i6': '# 认为a1是全局的\\na1=100\\ndef fun():\\n    print(a1)\\n    print(\"i am liuying\")\\n    # a2的作用范围是fun\\n    a2=99\\n    print(a2)\\nprint(a1)\\nfun()\\nprint(a2)', '_i7': '\\ndef fun():\\n    global b1=100\\n    print(b1)\\n    print(\"i am liuying\")\\n    # a2的作用范围是fun\\n    b2=99\\n    print(b2)\\nprint(b1)\\n#print(b2)\\nfun()', '_i8': '\\ndef fun():\\n    global b1\\n    b1=100\\n    print(b1)\\n    print(\"i am liuying\")\\n    # a2的作用范围是fun\\n    b2=99\\n    print(b2)\\nprint(b1)\\n#print(b2)\\nfun()', '_i9': '\\ndef fun():\\n    global b1\\n    b1=100\\n   \\n    print(\"i am liuying\")\\n    # a2的作用范围是fun\\n    b2=99\\n    print(b2)\\nprint(b1)\\n#print(b2)\\nfun()', '_i10': '\\ndef fun():\\n    global b1\\n    b1=100\\n    print(b1)\\n    print(\"i am liuying\")\\n    # a2的作用范围是fun\\n    b2=99\\n    print(b2)\\nprint(b1)\\n#print(b2)\\nfun()', '_i11': '# globals和locals\\na=1\\nb=2\\ndef fun(c,d):\\n    e=111\\n    print(\"locals={0}\".format(locals()))\\n    print(\"locals={0}\".format(locals()))\\nfun(100,200)', 'a': 1, 'b': 2, '_i12': '# globals和locals\\na=1\\nb=2\\ndef fun(c,d):\\n    e=111\\n    print(\"locals={0}\".format(locals()))\\n    print(\"locals={0}\".format(globals()))\\nfun(100,200)'}\n"
     ]
    }
   ],
   "source": [
    "# globals和locals\n",
    "# globals和locals叫內建函数\n",
    "a=1\n",
    "b=2\n",
    "def fun(c,d):\n",
    "    e=111\n",
    "    print(\"locals={0}\".format(locals()))\n",
    "    print(\"locals={0}\".format(globals()))\n",
    "fun(100,200)"
   ]
  },
  {
   "cell_type": "markdown",
   "metadata": {},
   "source": [
    "# eval（）函数\n",
    "- 把一个字符串单词一个表达式来执行，返回表达式执行后的结果\n",
    "- 语法：\n",
    "            eval(string_code,globals=None,locals=None)\n",
    "# exec()函数\n",
    "- 跟eval功能类似，但是不返回结果\n",
    "- 语法：\n",
    "            exec(string_code,globals=None,locals=None)"
   ]
  },
  {
   "cell_type": "code",
   "execution_count": 13,
   "metadata": {},
   "outputs": [
    {
     "name": "stdout",
     "output_type": "stream",
     "text": [
      "300\n",
      "300\n"
     ]
    }
   ],
   "source": [
    "x=100\n",
    "y=200\n",
    "# 执行x+y\n",
    "# z=x+y\n",
    "z1=x+y\n",
    "z2=eval(\"x+y\")\n",
    "print(z1)\n",
    "print(z2)"
   ]
  },
  {
   "cell_type": "code",
   "execution_count": 15,
   "metadata": {
    "scrolled": true
   },
   "outputs": [
    {
     "name": "stdout",
     "output_type": "stream",
     "text": [
      "x+y: 300\n",
      "300\n",
      "None\n"
     ]
    }
   ],
   "source": [
    "x=100\n",
    "y=200\n",
    "# 执行x+y\n",
    "# z=x+y\n",
    "# 1.注意字符串引号的写法\n",
    "# 2.比对exec执行结果和代码执行结果\n",
    "z1=x+y\n",
    "z2=exec(\"print('x+y:',x+y)\")\n",
    "print(z1)\n",
    "print(z2)"
   ]
  },
  {
   "cell_type": "markdown",
   "metadata": {},
   "source": [
    "# 递归函数\n",
    "- 含税直接或者间接调用自身\n",
    "- 优点：简洁，理解容易\n",
    "- 确定：对递归深度游限制，消耗资源大\n",
    "- python对递归深度有限制，超过限制报错\n",
    "- 在写递归程序的时候，一定注意结束条件"
   ]
  },
  {
   "cell_type": "code",
   "execution_count": 27,
   "metadata": {},
   "outputs": [],
   "source": [
    "# 递归调用深度限制代码\n",
    "x=0\n",
    "def fun():\n",
    "    global x\n",
    "    x+=1\n",
    "    print(x)\n",
    "    # 函数自己调用自己\n",
    "    fun()\n",
    "# 调用函数\n"
   ]
  },
  {
   "cell_type": "code",
   "execution_count": 29,
   "metadata": {},
   "outputs": [
    {
     "name": "stdout",
     "output_type": "stream",
     "text": [
      "2\n",
      "55\n"
     ]
    }
   ],
   "source": [
    "# 斐波那契数列\n",
    "# 一列数字，第一个值是1，第二个也是1，地单个开始，任何一个数是前两个之和\n",
    "#数学公式为：f(1)=1,f(2)=2,f(n)=f(n-1)+f(n-2)\n",
    "# 例如：1,1,2,3,5,8,13......\n",
    "\n",
    "# 下面求斐波那契数列函数有一定问题，比如n一开始就是负数，如何修正\n",
    "# n表示求第n个数字的斐波那契数列的值\n",
    "def fib(n):\n",
    "    if n == 1 :\n",
    "        return 1\n",
    "    if n == 2:\n",
    "        return 1\n",
    "    # 思考：为什么后面return能够正确执行，二不用else语句\n",
    "    return fib(n-1)+fib(n-2)\n",
    "print(fib(3))\n",
    "print(fib(10))"
   ]
  },
  {
   "cell_type": "markdown",
   "metadata": {},
   "source": [
    "# 内置数据结构（变量类型）\n",
    "- list\n",
    "- set\n",
    "- dict\n",
    "- tuple\n",
    "## list（列表）\n",
    "- 一组有顺序的数据的组合\n",
    "- 创建列表\n",
    "    - 空列表"
   ]
  },
  {
   "cell_type": "code",
   "execution_count": 32,
   "metadata": {},
   "outputs": [
    {
     "name": "stdout",
     "output_type": "stream",
     "text": [
      "<class 'list'>\n",
      "[]\n",
      "<class 'list'>\n",
      "[100]\n",
      "<class 'list'>\n",
      "[2, 3, 4, 5, 6]\n",
      "<class 'list'>\n",
      "[]\n"
     ]
    }
   ],
   "source": [
    "# 创建空列表\n",
    "l1 =[]\n",
    "# type是内置函数，负责打印出变量的类型\n",
    "print(type(l1))\n",
    "print(l1)\n",
    "# 2.创建带值的列表\n",
    "l2 =[100]\n",
    "print(type(l2))\n",
    "print(l2)\n",
    "\n",
    "\n",
    "# 3.创建列表，带多个值\n",
    "l3 =[2,3,4,5,6]\n",
    "print(type(l3))\n",
    "print(l3)\n",
    "\n",
    "# 使用 list\n",
    "l4 = list()\n",
    "print(type(l4))\n",
    "print(l4)"
   ]
  },
  {
   "cell_type": "code",
   "execution_count": null,
   "metadata": {},
   "outputs": [],
   "source": [
    "## 列表常用操作\n",
    "- 访问\n",
    "    - 使用下标操作（索引）\n",
    "    - 列表的位置从0开始\n",
    "- 分片操作\n",
    "    - 对列表进行任意一段的截取\n",
    "    - l[:]"
   ]
  },
  {
   "cell_type": "code",
   "execution_count": 34,
   "metadata": {},
   "outputs": [
    {
     "name": "stdout",
     "output_type": "stream",
     "text": [
      "4\n",
      "3\n"
     ]
    }
   ],
   "source": [
    "# 下标访问列表\n",
    "l =[3,2,1,4,6,3,2]\n",
    "\n",
    "print(l[3])\n",
    "print(l[0])"
   ]
  },
  {
   "cell_type": "code",
   "execution_count": 39,
   "metadata": {},
   "outputs": [
    {
     "name": "stdout",
     "output_type": "stream",
     "text": [
      "[2, 1, 4]\n",
      "[3, 2, 1, 4, 6, 3, 2]\n",
      "[3, 2, 1, 4]\n",
      "[1, 4, 6, 3, 2]\n"
     ]
    }
   ],
   "source": [
    "# 分片操作\n",
    "# 注意截取的范围，包含左边下标值，不包含右边的\n",
    "print(l[1:4])\n",
    "\n",
    "# 下标值可以为空，如果不写，坐标值默认为0，右边下标值为最大数+1\n",
    "print(l[:])\n",
    "print(l[:4])\n",
    "print(l[2:])\n",
    "\n"
   ]
  },
  {
   "cell_type": "code",
   "execution_count": 43,
   "metadata": {},
   "outputs": [
    {
     "name": "stdout",
     "output_type": "stream",
     "text": [
      "[3, 2, 1, 4, 6, 3, 2]\n",
      "[2, 1, 4, 6, 3]\n",
      "[2, 4, 3]\n",
      "[1, 4, 6, 3, 2]\n",
      "[3, 2, 1]\n"
     ]
    }
   ],
   "source": [
    "#分片可以控制增长幅度，默认增长幅度为1\n",
    "print(l)\n",
    "print(l[1:6:1])\n",
    "# 打印从下标1开始的数字，每次隔一个\n",
    "print(l[1:6:2])\n",
    "\n",
    "# 下标可以超出范围，超出后不在考虑多余下标内容\n",
    "print(l[2:10])\n",
    "\n",
    "# 下标值，增长幅度可以为负数\n",
    "# 为负数，表明顺序是从右往左\n",
    "# 规定：数组最后一个数字下标是-1"
   ]
  },
  {
   "cell_type": "code",
   "execution_count": 47,
   "metadata": {},
   "outputs": [
    {
     "name": "stdout",
     "output_type": "stream",
     "text": [
      "[3, 2, 1, 4, 6, 3, 2]\n",
      "[]\n",
      "[4, 6]\n",
      "[3, 6]\n"
     ]
    }
   ],
   "source": [
    "# 分片之负数下标\n",
    "print(l)\n",
    "# 下面显示的是空，因为默认分片总是从左往右截取\n",
    "# 即正常情况，分片左边的值一定小于右边的值\n",
    "print(l[-2:-4])\n",
    "print(l[-4:-2])\n",
    "# 如果分片一定左边值比右边大，则步长参数需要使用负数\n",
    "# 此案例为一个list直接正反颠倒提供了一种思路\n",
    "print(l[-2:-4:-1])"
   ]
  },
  {
   "cell_type": "markdown",
   "metadata": {},
   "source": [
    "## 分片操作是生成一个新的list\n",
    "- 内置函数id，负责显示一个变量或者数据的唯一编号\n"
   ]
  },
  {
   "cell_type": "code",
   "execution_count": 50,
   "metadata": {},
   "outputs": [
    {
     "name": "stdout",
     "output_type": "stream",
     "text": [
      "1706850880\n",
      "1706854080\n",
      "1706850880\n",
      "101\n",
      "100\n"
     ]
    }
   ],
   "source": [
    "# id函数举例\n",
    "a =100\n",
    "b =200\n",
    "print(id(a))\n",
    "print(id(b))\n",
    "\n",
    "c = a\n",
    "print(id(c))\n",
    "\n",
    "# 如果\n",
    "# a跟c只想一份数据，则更改a的值同样也会更改c的值\n",
    "# 但是，显示结果并非如此，为什么\n",
    "a = 101\n",
    "print(a)\n",
    "print(c)"
   ]
  },
  {
   "cell_type": "code",
   "execution_count": 2,
   "metadata": {},
   "outputs": [
    {
     "name": "stdout",
     "output_type": "stream",
     "text": [
      "96489736\n",
      "101091912\n",
      "101091912\n",
      "[3, 100, 5, 78, 5, 44]\n",
      "[3, 4, 5, 78, 5, 44]\n",
      "[3, 100, 5, 78, 5, 44]\n",
      "[3, 100, 5, 78, 5, 44]\n"
     ]
    }
   ],
   "source": [
    "# 通过id可以直接判断出分片是重新生成了一份数据还是使用的同一份数据\n",
    "l =[3,4,5,78,5,44,]\n",
    "ll = l[:]\n",
    "lll = ll\n",
    "# 如果两个id值一样，则表明分片产生的列表是使用的同一地址统一数据\n",
    "# 否则，则表明分片是重新生成了一份数据，即一个新的列表，然后把数值拷贝到新列表\n",
    "print(id(l))\n",
    "print(id(ll))\n",
    "print(id(lll))\n",
    "# 通过id知道，ll和lll是同一份数据，验证代码如下\n",
    "l[1]=100\n",
    "print(l)\n",
    "print(lll)\n",
    "\n",
    "ll[1] = 100\n",
    "print(ll)\n",
    "print(lll)\n"
   ]
  }
 ],
 "metadata": {
  "kernelspec": {
   "display_name": "Python 3",
   "language": "python",
   "name": "python3"
  },
  "language_info": {
   "codemirror_mode": {
    "name": "ipython",
    "version": 3
   },
   "file_extension": ".py",
   "mimetype": "text/x-python",
   "name": "python",
   "nbconvert_exporter": "python",
   "pygments_lexer": "ipython3",
   "version": "3.6.4"
  }
 },
 "nbformat": 4,
 "nbformat_minor": 2
}
